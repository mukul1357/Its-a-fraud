{
  "cells": [
    {
      "cell_type": "code",
      "execution_count": 1,
      "metadata": {
        "_cell_guid": "b1076dfc-b9ad-4769-8c92-a6c4dae69d19",
        "_uuid": "8f2839f25d086af736a60e9eeb907d3b93b6e0e5",
        "execution": {
          "iopub.execute_input": "2022-10-15T14:02:44.438012Z",
          "iopub.status.busy": "2022-10-15T14:02:44.437197Z",
          "iopub.status.idle": "2022-10-15T14:02:44.467183Z",
          "shell.execute_reply": "2022-10-15T14:02:44.465875Z",
          "shell.execute_reply.started": "2022-10-15T14:02:44.437900Z"
        },
        "id": "NPo3EKTg-Tks",
        "trusted": true
      },
      "outputs": [],
      "source": [
        "# This Python 3 environment comes with many helpful analytics libraries installed\n",
        "# It is defined by the kaggle/python Docker image: https://github.com/kaggle/docker-python\n",
        "# For example, here's several helpful packages to load\n",
        "\n",
        "import numpy as np # linear algebra\n",
        "import pandas as pd # data processing, CSV file I/O (e.g. pd.read_csv)\n",
        "\n",
        "# Input data files are available in the read-only \"../input/\" directory\n",
        "# For example, running this (by clicking run or pressing Shift+Enter) will list all files under the input directory\n",
        "\n",
        "import os\n",
        "# for dirname, _, filenames in os.walk('/kaggle/input'):\n",
        "#     for filename in filenames:\n",
        "#         print(os.path.join(dirname, filename))\n",
        "\n",
        "# You can write up to 20GB to the current directory (/kaggle/working/) that gets preserved as output when you create a version using \"Save & Run All\" \n",
        "# You can also write temporary files to /kaggle/temp/, but they won't be saved outside of the current session"
      ]
    },
    {
      "cell_type": "code",
      "execution_count": 2,
      "metadata": {
        "colab": {
          "base_uri": "https://localhost:8080/"
        },
        "id": "t1J9EgpuA_FU",
        "outputId": "d834bfba-a2fd-416f-b633-78931b2d7ade"
      },
      "outputs": [
        {
          "output_type": "stream",
          "name": "stdout",
          "text": [
            "Drive already mounted at /content/drive; to attempt to forcibly remount, call drive.mount(\"/content/drive\", force_remount=True).\n"
          ]
        }
      ],
      "source": [
        "from google.colab import drive\n",
        "drive.mount('/content/drive')\n",
        "# Kaggle dataset link\n",
        "# https://www.kaggle.com/competitions/its-a-fraud/data"
      ]
    },
    {
      "cell_type": "code",
      "execution_count": 3,
      "metadata": {
        "execution": {
          "iopub.execute_input": "2022-10-15T14:02:44.470377Z",
          "iopub.status.busy": "2022-10-15T14:02:44.469538Z",
          "iopub.status.idle": "2022-10-15T14:03:20.401023Z",
          "shell.execute_reply": "2022-10-15T14:03:20.399796Z",
          "shell.execute_reply.started": "2022-10-15T14:02:44.470293Z"
        },
        "id": "CxD4a_oN-Tkw",
        "trusted": true
      },
      "outputs": [],
      "source": [
        "df = pd.read_csv(\"/content/drive/MyDrive/dataset/DataSet/train.csv\")\n",
        "test = pd.read_csv(\"/content/drive/MyDrive/dataset/DataSet/test.csv\")"
      ]
    },
    {
      "cell_type": "code",
      "execution_count": 4,
      "metadata": {
        "colab": {
          "base_uri": "https://localhost:8080/"
        },
        "execution": {
          "iopub.execute_input": "2022-10-15T14:06:09.172154Z",
          "iopub.status.busy": "2022-10-15T14:06:09.171759Z",
          "iopub.status.idle": "2022-10-15T14:06:09.993947Z",
          "shell.execute_reply": "2022-10-15T14:06:09.992367Z",
          "shell.execute_reply.started": "2022-10-15T14:06:09.172118Z"
        },
        "id": "zxqVFoo0-Tkz",
        "outputId": "91f5ce59-b14d-49a2-b8c7-c23148562b3c",
        "trusted": true
      },
      "outputs": [
        {
          "output_type": "execute_result",
          "data": {
            "text/plain": [
              "TransactionID          0\n",
              "isFraud                0\n",
              "TransactionDT          0\n",
              "TransactionAmt         0\n",
              "ProductCD              0\n",
              "                   ...  \n",
              "id_36             337369\n",
              "id_37             337369\n",
              "id_38             337369\n",
              "DeviceType        337504\n",
              "DeviceInfo        353982\n",
              "Length: 434, dtype: int64"
            ]
          },
          "metadata": {},
          "execution_count": 4
        }
      ],
      "source": [
        "df.isna().sum()"
      ]
    },
    {
      "cell_type": "code",
      "execution_count": 5,
      "metadata": {
        "colab": {
          "base_uri": "https://localhost:8080/"
        },
        "execution": {
          "iopub.execute_input": "2022-10-15T14:06:09.998210Z",
          "iopub.status.busy": "2022-10-15T14:06:09.997723Z",
          "iopub.status.idle": "2022-10-15T14:06:15.446084Z",
          "shell.execute_reply": "2022-10-15T14:06:15.444731Z",
          "shell.execute_reply.started": "2022-10-15T14:06:09.998169Z"
        },
        "id": "Zws1bTQo-Tk1",
        "outputId": "a4e6b54b-631d-4340-cae0-e5e40f35e933",
        "trusted": true
      },
      "outputs": [
        {
          "output_type": "execute_result",
          "data": {
            "text/plain": [
              "0"
            ]
          },
          "metadata": {},
          "execution_count": 5
        }
      ],
      "source": [
        "df.duplicated().sum()"
      ]
    },
    {
      "cell_type": "code",
      "execution_count": 6,
      "metadata": {
        "colab": {
          "base_uri": "https://localhost:8080/"
        },
        "execution": {
          "iopub.execute_input": "2022-10-15T14:06:15.447961Z",
          "iopub.status.busy": "2022-10-15T14:06:15.447562Z",
          "iopub.status.idle": "2022-10-15T14:06:15.456090Z",
          "shell.execute_reply": "2022-10-15T14:06:15.454638Z",
          "shell.execute_reply.started": "2022-10-15T14:06:15.447927Z"
        },
        "id": "2N7dDfEQ-Tk2",
        "outputId": "18fed647-b533-4c12-d355-d080836bb9d6",
        "trusted": true
      },
      "outputs": [
        {
          "output_type": "execute_result",
          "data": {
            "text/plain": [
              "442905"
            ]
          },
          "metadata": {},
          "execution_count": 6
        }
      ],
      "source": [
        "len(df)"
      ]
    },
    {
      "cell_type": "code",
      "execution_count": 7,
      "metadata": {
        "colab": {
          "base_uri": "https://localhost:8080/"
        },
        "execution": {
          "iopub.execute_input": "2022-10-15T14:06:16.566513Z",
          "iopub.status.busy": "2022-10-15T14:06:16.565758Z",
          "iopub.status.idle": "2022-10-15T14:06:16.573334Z",
          "shell.execute_reply": "2022-10-15T14:06:16.571595Z",
          "shell.execute_reply.started": "2022-10-15T14:06:16.566468Z"
        },
        "id": "BIz08sDX-Tk5",
        "outputId": "64afdd2e-0a1d-4bf7-c31d-c5391ee2d4a2",
        "trusted": true
      },
      "outputs": [
        {
          "output_type": "stream",
          "name": "stdout",
          "text": [
            "['TransactionID', 'isFraud', 'TransactionDT', 'TransactionAmt', 'ProductCD', 'card1', 'card2', 'card3', 'card4', 'card5', 'card6', 'addr1', 'addr2', 'dist1', 'dist2', 'P_emaildomain', 'R_emaildomain', 'C1', 'C2', 'C3', 'C4', 'C5', 'C6', 'C7', 'C8', 'C9', 'C10', 'C11', 'C12', 'C13', 'C14', 'D1', 'D2', 'D3', 'D4', 'D5', 'D6', 'D7', 'D8', 'D9', 'D10', 'D11', 'D12', 'D13', 'D14', 'D15', 'M1', 'M2', 'M3', 'M4', 'M5', 'M6', 'M7', 'M8', 'M9', 'V1', 'V2', 'V3', 'V4', 'V5', 'V6', 'V7', 'V8', 'V9', 'V10', 'V11', 'V12', 'V13', 'V14', 'V15', 'V16', 'V17', 'V18', 'V19', 'V20', 'V21', 'V22', 'V23', 'V24', 'V25', 'V26', 'V27', 'V28', 'V29', 'V30', 'V31', 'V32', 'V33', 'V34', 'V35', 'V36', 'V37', 'V38', 'V39', 'V40', 'V41', 'V42', 'V43', 'V44', 'V45', 'V46', 'V47', 'V48', 'V49', 'V50', 'V51', 'V52', 'V53', 'V54', 'V55', 'V56', 'V57', 'V58', 'V59', 'V60', 'V61', 'V62', 'V63', 'V64', 'V65', 'V66', 'V67', 'V68', 'V69', 'V70', 'V71', 'V72', 'V73', 'V74', 'V75', 'V76', 'V77', 'V78', 'V79', 'V80', 'V81', 'V82', 'V83', 'V84', 'V85', 'V86', 'V87', 'V88', 'V89', 'V90', 'V91', 'V92', 'V93', 'V94', 'V95', 'V96', 'V97', 'V98', 'V99', 'V100', 'V101', 'V102', 'V103', 'V104', 'V105', 'V106', 'V107', 'V108', 'V109', 'V110', 'V111', 'V112', 'V113', 'V114', 'V115', 'V116', 'V117', 'V118', 'V119', 'V120', 'V121', 'V122', 'V123', 'V124', 'V125', 'V126', 'V127', 'V128', 'V129', 'V130', 'V131', 'V132', 'V133', 'V134', 'V135', 'V136', 'V137', 'V138', 'V139', 'V140', 'V141', 'V142', 'V143', 'V144', 'V145', 'V146', 'V147', 'V148', 'V149', 'V150', 'V151', 'V152', 'V153', 'V154', 'V155', 'V156', 'V157', 'V158', 'V159', 'V160', 'V161', 'V162', 'V163', 'V164', 'V165', 'V166', 'V167', 'V168', 'V169', 'V170', 'V171', 'V172', 'V173', 'V174', 'V175', 'V176', 'V177', 'V178', 'V179', 'V180', 'V181', 'V182', 'V183', 'V184', 'V185', 'V186', 'V187', 'V188', 'V189', 'V190', 'V191', 'V192', 'V193', 'V194', 'V195', 'V196', 'V197', 'V198', 'V199', 'V200', 'V201', 'V202', 'V203', 'V204', 'V205', 'V206', 'V207', 'V208', 'V209', 'V210', 'V211', 'V212', 'V213', 'V214', 'V215', 'V216', 'V217', 'V218', 'V219', 'V220', 'V221', 'V222', 'V223', 'V224', 'V225', 'V226', 'V227', 'V228', 'V229', 'V230', 'V231', 'V232', 'V233', 'V234', 'V235', 'V236', 'V237', 'V238', 'V239', 'V240', 'V241', 'V242', 'V243', 'V244', 'V245', 'V246', 'V247', 'V248', 'V249', 'V250', 'V251', 'V252', 'V253', 'V254', 'V255', 'V256', 'V257', 'V258', 'V259', 'V260', 'V261', 'V262', 'V263', 'V264', 'V265', 'V266', 'V267', 'V268', 'V269', 'V270', 'V271', 'V272', 'V273', 'V274', 'V275', 'V276', 'V277', 'V278', 'V279', 'V280', 'V281', 'V282', 'V283', 'V284', 'V285', 'V286', 'V287', 'V288', 'V289', 'V290', 'V291', 'V292', 'V293', 'V294', 'V295', 'V296', 'V297', 'V298', 'V299', 'V300', 'V301', 'V302', 'V303', 'V304', 'V305', 'V306', 'V307', 'V308', 'V309', 'V310', 'V311', 'V312', 'V313', 'V314', 'V315', 'V316', 'V317', 'V318', 'V319', 'V320', 'V321', 'V322', 'V323', 'V324', 'V325', 'V326', 'V327', 'V328', 'V329', 'V330', 'V331', 'V332', 'V333', 'V334', 'V335', 'V336', 'V337', 'V338', 'V339', 'id_01', 'id_02', 'id_03', 'id_04', 'id_05', 'id_06', 'id_07', 'id_08', 'id_09', 'id_10', 'id_11', 'id_12', 'id_13', 'id_14', 'id_15', 'id_16', 'id_17', 'id_18', 'id_19', 'id_20', 'id_21', 'id_22', 'id_23', 'id_24', 'id_25', 'id_26', 'id_27', 'id_28', 'id_29', 'id_30', 'id_31', 'id_32', 'id_33', 'id_34', 'id_35', 'id_36', 'id_37', 'id_38', 'DeviceType', 'DeviceInfo']\n"
          ]
        }
      ],
      "source": [
        "print(df.columns.tolist())"
      ]
    },
    {
      "cell_type": "code",
      "execution_count": 8,
      "metadata": {
        "colab": {
          "base_uri": "https://localhost:8080/"
        },
        "execution": {
          "iopub.execute_input": "2022-10-15T14:06:16.575871Z",
          "iopub.status.busy": "2022-10-15T14:06:16.575442Z",
          "iopub.status.idle": "2022-10-15T14:06:16.974220Z",
          "shell.execute_reply": "2022-10-15T14:06:16.973319Z",
          "shell.execute_reply.started": "2022-10-15T14:06:16.575829Z"
        },
        "id": "MHdfaJFT-Tk6",
        "outputId": "4deff17e-a737-45dc-d9f0-bb3d719c5a12",
        "trusted": true
      },
      "outputs": [
        {
          "output_type": "execute_result",
          "data": {
            "text/plain": [
              "86667491"
            ]
          },
          "metadata": {},
          "execution_count": 8
        }
      ],
      "source": [
        "df.isna().sum().sum()"
      ]
    },
    {
      "cell_type": "code",
      "execution_count": 9,
      "metadata": {
        "colab": {
          "base_uri": "https://localhost:8080/"
        },
        "execution": {
          "iopub.execute_input": "2022-10-15T14:06:21.309462Z",
          "iopub.status.busy": "2022-10-15T14:06:21.309130Z",
          "iopub.status.idle": "2022-10-15T14:06:21.623611Z",
          "shell.execute_reply": "2022-10-15T14:06:21.622426Z",
          "shell.execute_reply.started": "2022-10-15T14:06:21.309432Z"
        },
        "id": "POUMVRwk-TlA",
        "outputId": "338a2116-4f9d-447b-e218-a04677eb04ee",
        "trusted": true
      },
      "outputs": [
        {
          "output_type": "execute_result",
          "data": {
            "text/plain": [
              "414"
            ]
          },
          "metadata": {},
          "execution_count": 9
        }
      ],
      "source": [
        "df.isna().any().sum()"
      ]
    },
    {
      "cell_type": "code",
      "execution_count": 10,
      "metadata": {
        "execution": {
          "iopub.execute_input": "2022-10-15T14:06:21.625602Z",
          "iopub.status.busy": "2022-10-15T14:06:21.625192Z",
          "iopub.status.idle": "2022-10-15T14:06:22.991514Z",
          "shell.execute_reply": "2022-10-15T14:06:22.990279Z",
          "shell.execute_reply.started": "2022-10-15T14:06:21.625564Z"
        },
        "id": "LaRYei5r-TlA",
        "trusted": true
      },
      "outputs": [],
      "source": [
        "Y_train = df.pop('isFraud')\n",
        "dataframes_to_be_combined = [df,test]\n",
        "df = pd.concat(dataframes_to_be_combined)"
      ]
    },
    {
      "cell_type": "code",
      "execution_count": 11,
      "metadata": {
        "colab": {
          "base_uri": "https://localhost:8080/"
        },
        "id": "ZGY_-flGAbmZ",
        "outputId": "2149207c-a95a-436f-ff9d-010768f7bffe"
      },
      "outputs": [
        {
          "output_type": "execute_result",
          "data": {
            "text/plain": [
              "115523073"
            ]
          },
          "metadata": {},
          "execution_count": 11
        }
      ],
      "source": [
        "df.isna().sum().sum()"
      ]
    },
    {
      "cell_type": "code",
      "execution_count": 12,
      "metadata": {
        "colab": {
          "base_uri": "https://localhost:8080/"
        },
        "id": "fCyZWiTCAjcp",
        "outputId": "5f2449ab-cd40-4d06-88e7-1c8e2f21871e"
      },
      "outputs": [
        {
          "output_type": "execute_result",
          "data": {
            "text/plain": [
              "414"
            ]
          },
          "metadata": {},
          "execution_count": 12
        }
      ],
      "source": [
        "df.isna().any().sum()"
      ]
    },
    {
      "cell_type": "code",
      "execution_count": 13,
      "metadata": {
        "colab": {
          "base_uri": "https://localhost:8080/"
        },
        "id": "cVCui08VpwKK",
        "outputId": "5d070daf-9e0e-4789-c870-403bb541b91f"
      },
      "outputs": [
        {
          "output_type": "execute_result",
          "data": {
            "text/plain": [
              "count      118666\n",
              "unique       1786\n",
              "top       Windows\n",
              "freq        47722\n",
              "Name: DeviceInfo, dtype: object"
            ]
          },
          "metadata": {},
          "execution_count": 13
        }
      ],
      "source": [
        "# Checking feature DeviceInfo\n",
        "df['DeviceInfo'].describe()"
      ]
    },
    {
      "cell_type": "code",
      "execution_count": 14,
      "metadata": {
        "colab": {
          "base_uri": "https://localhost:8080/"
        },
        "id": "vNIweALWp8RA",
        "outputId": "db2e7a2a-e7f3-4925-af00-9c8acd84ce70"
      },
      "outputs": [
        {
          "output_type": "execute_result",
          "data": {
            "text/plain": [
              "471874"
            ]
          },
          "metadata": {},
          "execution_count": 14
        }
      ],
      "source": [
        "df['DeviceInfo'].isna().sum()"
      ]
    },
    {
      "cell_type": "code",
      "execution_count": 15,
      "metadata": {
        "id": "LDuoLEyEGEgf"
      },
      "outputs": [],
      "source": [
        "df.drop(\"DeviceInfo\", axis=1, inplace=True)"
      ]
    },
    {
      "cell_type": "code",
      "execution_count": 16,
      "metadata": {
        "colab": {
          "base_uri": "https://localhost:8080/"
        },
        "execution": {
          "iopub.execute_input": "2022-10-15T14:06:38.365269Z",
          "iopub.status.busy": "2022-10-15T14:06:38.364689Z",
          "iopub.status.idle": "2022-10-15T14:06:42.491608Z",
          "shell.execute_reply": "2022-10-15T14:06:42.489949Z",
          "shell.execute_reply.started": "2022-10-15T14:06:38.365215Z"
        },
        "id": "JVPwHrX3-TlI",
        "outputId": "175fa5d7-0779-44c8-caeb-0e00d2991ef3",
        "trusted": true
      },
      "outputs": [
        {
          "output_type": "execute_result",
          "data": {
            "text/plain": [
              "Index(['dist1', 'dist2', 'R_emaildomain', 'D5', 'D6', 'D7', 'D8', 'D9', 'D12',\n",
              "       'D13',\n",
              "       ...\n",
              "       'id_30', 'id_31', 'id_32', 'id_33', 'id_34', 'id_35', 'id_36', 'id_37',\n",
              "       'id_38', 'DeviceType'],\n",
              "      dtype='object', length=213)"
            ]
          },
          "metadata": {},
          "execution_count": 16
        }
      ],
      "source": [
        "# removing all features where null values are greater than 50%\n",
        "null = df.isnull().sum() / len(df)\n",
        "missing_features = null[null > 0.50].index\n",
        "df.drop(missing_features, axis=1, inplace=True)\n",
        "missing_features"
      ]
    },
    {
      "cell_type": "code",
      "execution_count": 17,
      "metadata": {
        "colab": {
          "base_uri": "https://localhost:8080/"
        },
        "execution": {
          "iopub.execute_input": "2022-10-15T14:03:20.403588Z",
          "iopub.status.busy": "2022-10-15T14:03:20.402760Z",
          "iopub.status.idle": "2022-10-15T14:06:09.169600Z",
          "shell.execute_reply": "2022-10-15T14:06:09.168105Z",
          "shell.execute_reply.started": "2022-10-15T14:03:20.403543Z"
        },
        "id": "SzCs2HKV-Tky",
        "outputId": "50458287-4614-46ad-d114-3db4cce4cf83",
        "trusted": true
      },
      "outputs": [
        {
          "output_type": "execute_result",
          "data": {
            "text/plain": [
              "['TransactionDT',\n",
              " 'C2',\n",
              " 'C4',\n",
              " 'C6',\n",
              " 'C8',\n",
              " 'C10',\n",
              " 'C11',\n",
              " 'C12',\n",
              " 'C14',\n",
              " 'D2',\n",
              " 'V11',\n",
              " 'V16',\n",
              " 'V18',\n",
              " 'V21',\n",
              " 'V22',\n",
              " 'V28',\n",
              " 'V30',\n",
              " 'V32',\n",
              " 'V33',\n",
              " 'V34',\n",
              " 'V43',\n",
              " 'V49',\n",
              " 'V50',\n",
              " 'V52',\n",
              " 'V57',\n",
              " 'V58',\n",
              " 'V60',\n",
              " 'V63',\n",
              " 'V70',\n",
              " 'V71',\n",
              " 'V72',\n",
              " 'V74',\n",
              " 'V81',\n",
              " 'V84',\n",
              " 'V89',\n",
              " 'V91',\n",
              " 'V92',\n",
              " 'V93',\n",
              " 'V94',\n",
              " 'V97',\n",
              " 'V101',\n",
              " 'V102',\n",
              " 'V103',\n",
              " 'V106',\n",
              " 'V126',\n",
              " 'V127',\n",
              " 'V128',\n",
              " 'V132',\n",
              " 'V133',\n",
              " 'V134',\n",
              " 'V279',\n",
              " 'V280',\n",
              " 'V292',\n",
              " 'V293',\n",
              " 'V295',\n",
              " 'V296',\n",
              " 'V298',\n",
              " 'V299',\n",
              " 'V304',\n",
              " 'V306',\n",
              " 'V307',\n",
              " 'V308',\n",
              " 'V316',\n",
              " 'V317',\n",
              " 'V318']"
            ]
          },
          "metadata": {},
          "execution_count": 17
        }
      ],
      "source": [
        "# Dropping one row from any two rows which are correlated greater than 95% \n",
        "cor = df.corr().abs()\n",
        "upper = cor.where(np.triu(np.ones(cor.shape),k=1).astype(bool))\n",
        "drop = [column for column in upper.columns if any(upper[column] > 0.95)]\n",
        "df.drop(df[drop], axis=1, inplace=True)\n",
        "drop"
      ]
    },
    {
      "cell_type": "code",
      "execution_count": 18,
      "metadata": {
        "colab": {
          "base_uri": "https://localhost:8080/"
        },
        "execution": {
          "iopub.execute_input": "2022-10-15T14:06:22.993399Z",
          "iopub.status.busy": "2022-10-15T14:06:22.992969Z",
          "iopub.status.idle": "2022-10-15T14:06:30.052687Z",
          "shell.execute_reply": "2022-10-15T14:06:30.051342Z",
          "shell.execute_reply.started": "2022-10-15T14:06:22.993357Z"
        },
        "id": "9N9ia_82-TlC",
        "outputId": "89ba6b7b-8e29-495c-af12-e6391ed791b0",
        "trusted": true
      },
      "outputs": [
        {
          "output_type": "stream",
          "name": "stdout",
          "text": [
            "card3\n",
            "addr2\n",
            "C3\n",
            "C7\n",
            "V1\n",
            "V2\n",
            "V3\n",
            "V4\n",
            "V5\n",
            "V6\n",
            "V7\n",
            "V8\n",
            "V9\n",
            "V14\n",
            "V15\n",
            "V17\n",
            "V19\n",
            "V20\n",
            "V23\n",
            "V24\n",
            "V25\n",
            "V26\n",
            "V27\n",
            "V31\n",
            "V37\n",
            "V38\n",
            "V39\n",
            "V40\n",
            "V41\n",
            "V42\n",
            "V44\n",
            "V45\n",
            "V46\n",
            "V47\n",
            "V51\n",
            "V55\n",
            "V56\n",
            "V59\n",
            "V61\n",
            "V62\n",
            "V64\n",
            "V65\n",
            "V66\n",
            "V67\n",
            "V68\n",
            "V73\n",
            "V77\n",
            "V78\n",
            "V79\n",
            "V80\n",
            "V82\n",
            "V83\n",
            "V85\n",
            "V86\n",
            "V87\n",
            "V88\n",
            "V95\n",
            "V98\n",
            "V100\n",
            "V104\n",
            "V105\n",
            "V107\n",
            "V108\n",
            "V109\n",
            "V110\n",
            "V111\n",
            "V112\n",
            "V113\n",
            "V114\n",
            "V115\n",
            "V116\n",
            "V117\n",
            "V118\n",
            "V119\n",
            "V120\n",
            "V121\n",
            "V122\n",
            "V123\n",
            "V124\n",
            "V125\n",
            "V129\n",
            "V131\n",
            "V135\n",
            "V136\n",
            "V137\n",
            "V281\n",
            "V284\n",
            "V286\n",
            "V287\n",
            "V288\n",
            "V289\n",
            "V290\n",
            "V291\n",
            "V294\n",
            "V297\n",
            "V300\n",
            "V301\n",
            "V302\n",
            "V303\n",
            "V305\n",
            "V309\n",
            "V311\n",
            "V312\n",
            "V313\n",
            "V314\n",
            "V315\n",
            "V319\n",
            "V320\n",
            "V321\n"
          ]
        }
      ],
      "source": [
        "# fill ing all columns with 25%ile vaue(median) where 25%ile and 75%ile values are same\n",
        "from pandas.api.types import is_numeric_dtype\n",
        "for column in df.columns[1:]:\n",
        "    if(df[column].dtype.kind in 'biufc' and df[column].quantile(0.75) == df[column].quantile(0.25)):\n",
        "        df[column].fillna(df[column].quantile(0.25), inplace = True)\n",
        "        print(column)"
      ]
    },
    {
      "cell_type": "code",
      "execution_count": 19,
      "metadata": {
        "colab": {
          "base_uri": "https://localhost:8080/"
        },
        "id": "3MLqDDgVAsAQ",
        "outputId": "17ecc3d6-09cb-441e-889c-12f37d79bc95"
      },
      "outputs": [
        {
          "output_type": "stream",
          "name": "stdout",
          "text": [
            "card2 362.5554884999665 361.0 321.0\n",
            "card5 199.27889697943476 226.0 226.0\n",
            "addr1 290.73379392341195 299.0 299.0\n",
            "D1 94.34756843625429 3.0 0.0\n",
            "D3 28.343347718075332 8.0 0.0\n",
            "D4 140.0024405978872 26.0 0.0\n",
            "D10 123.98213667937759 15.0 0.0\n",
            "D11 146.6214654959149 43.0 0.0\n",
            "D15 163.744578971615 52.0 0.0\n",
            "V10 0.4639152072429824 0.0 0.0\n",
            "V12 0.5597113128733233 1.0 1.0\n",
            "V13 0.5991657385216156 1.0 1.0\n",
            "V29 0.3878402307631004 0.0 0.0\n",
            "V35 0.5425942486556239 1.0 1.0\n",
            "V36 0.5791978100960455 1.0 1.0\n",
            "V48 0.3831738900446188 0.0 0.0\n",
            "V53 0.5775858710979191 1.0 1.0\n",
            "V54 0.6199819259744003 1.0 1.0\n",
            "V69 0.3902002944819688 0.0 0.0\n",
            "V75 0.5442781465407199 1.0 1.0\n",
            "V76 0.5875570430176156 1.0 1.0\n",
            "V90 0.40186207556803677 0.0 0.0\n",
            "V96 3.0051895375669657 0.0 0.0\n",
            "V99 0.8949859884179958 0.0 0.0\n",
            "V130 92.16584942117251 0.0 0.0\n",
            "V282 0.8171707075352427 1.0 1.0\n",
            "V283 0.9911144447970458 1.0 1.0\n",
            "V285 1.1676601278855532 0.0 0.0\n",
            "V310 118.19565806086851 0.0 0.0\n"
          ]
        }
      ],
      "source": [
        "for column in df.columns[1:]:\n",
        "    if(df[column].isna().sum() > 0 and df[column].dtype != 'object'):\n",
        "        print(column,df[column].mean(),df[column].median(),df[column].mode()[0])"
      ]
    },
    {
      "cell_type": "code",
      "execution_count": 20,
      "metadata": {
        "execution": {
          "iopub.execute_input": "2022-10-15T14:06:30.054462Z",
          "iopub.status.busy": "2022-10-15T14:06:30.054083Z",
          "iopub.status.idle": "2022-10-15T14:06:31.116334Z",
          "shell.execute_reply": "2022-10-15T14:06:31.115277Z",
          "shell.execute_reply.started": "2022-10-15T14:06:30.054426Z"
        },
        "id": "-V7QfwFQ-TlC",
        "trusted": true
      },
      "outputs": [],
      "source": [
        "import seaborn as sns"
      ]
    },
    {
      "cell_type": "code",
      "execution_count": 21,
      "metadata": {
        "colab": {
          "base_uri": "https://localhost:8080/"
        },
        "execution": {
          "iopub.execute_input": "2022-10-15T14:06:33.338017Z",
          "iopub.status.busy": "2022-10-15T14:06:33.337617Z",
          "iopub.status.idle": "2022-10-15T14:06:33.397010Z",
          "shell.execute_reply": "2022-10-15T14:06:33.395574Z",
          "shell.execute_reply.started": "2022-10-15T14:06:33.337981Z"
        },
        "id": "xiuDOUio-TlC",
        "outputId": "fe6b3e60-0dbc-4476-e0f9-165d9d814e01",
        "trusted": true
      },
      "outputs": [
        {
          "output_type": "execute_result",
          "data": {
            "text/plain": [
              "count    581607.000000\n",
              "mean        362.555488\n",
              "std         157.793246\n",
              "min         100.000000\n",
              "25%         214.000000\n",
              "50%         361.000000\n",
              "75%         512.000000\n",
              "max         600.000000\n",
              "Name: card2, dtype: float64"
            ]
          },
          "metadata": {},
          "execution_count": 21
        }
      ],
      "source": [
        "df['card2'].describe()"
      ]
    },
    {
      "cell_type": "code",
      "execution_count": 22,
      "metadata": {
        "execution": {
          "iopub.execute_input": "2022-10-15T14:06:33.420492Z",
          "iopub.status.busy": "2022-10-15T14:06:33.419979Z",
          "iopub.status.idle": "2022-10-15T14:06:33.434610Z",
          "shell.execute_reply": "2022-10-15T14:06:33.433068Z",
          "shell.execute_reply.started": "2022-10-15T14:06:33.420449Z"
        },
        "id": "k0uDJVgR-TlE",
        "trusted": true
      },
      "outputs": [],
      "source": [
        "df[\"card2\"].fillna(df[\"card2\"].mean(), inplace = True)"
      ]
    },
    {
      "cell_type": "code",
      "execution_count": 23,
      "metadata": {
        "colab": {
          "base_uri": "https://localhost:8080/"
        },
        "id": "1USHslzjBSFO",
        "outputId": "4cc2e6b4-c059-4c20-8df4-92025f090a5f"
      },
      "outputs": [
        {
          "output_type": "execute_result",
          "data": {
            "text/plain": [
              "count    586281.000000\n",
              "mean        199.278897\n",
              "std          41.244453\n",
              "min         100.000000\n",
              "25%         166.000000\n",
              "50%         226.000000\n",
              "75%         226.000000\n",
              "max         237.000000\n",
              "Name: card5, dtype: float64"
            ]
          },
          "metadata": {},
          "execution_count": 23
        }
      ],
      "source": [
        "df['card5'].describe()"
      ]
    },
    {
      "cell_type": "code",
      "execution_count": 24,
      "metadata": {
        "id": "E649JIh-BdaA"
      },
      "outputs": [],
      "source": [
        "df[\"card5\"].fillna(df[\"card5\"].median(), inplace = True)"
      ]
    },
    {
      "cell_type": "code",
      "execution_count": 25,
      "metadata": {
        "colab": {
          "base_uri": "https://localhost:8080/"
        },
        "execution": {
          "iopub.execute_input": "2022-10-15T14:06:33.437153Z",
          "iopub.status.busy": "2022-10-15T14:06:33.436706Z",
          "iopub.status.idle": "2022-10-15T14:06:33.490514Z",
          "shell.execute_reply": "2022-10-15T14:06:33.489103Z",
          "shell.execute_reply.started": "2022-10-15T14:06:33.437103Z"
        },
        "id": "1NiPyL1o-TlE",
        "outputId": "8d489973-4c7c-4fe9-d637-7e6ee37f545a",
        "trusted": true
      },
      "outputs": [
        {
          "output_type": "execute_result",
          "data": {
            "text/plain": [
              "count    524834.000000\n",
              "mean        290.733794\n",
              "std         101.741072\n",
              "min         100.000000\n",
              "25%         204.000000\n",
              "50%         299.000000\n",
              "75%         330.000000\n",
              "max         540.000000\n",
              "Name: addr1, dtype: float64"
            ]
          },
          "metadata": {},
          "execution_count": 25
        }
      ],
      "source": [
        "df['addr1'].describe()"
      ]
    },
    {
      "cell_type": "code",
      "execution_count": 26,
      "metadata": {
        "execution": {
          "iopub.execute_input": "2022-10-15T14:06:33.502088Z",
          "iopub.status.busy": "2022-10-15T14:06:33.501353Z",
          "iopub.status.idle": "2022-10-15T14:06:33.513730Z",
          "shell.execute_reply": "2022-10-15T14:06:33.512709Z",
          "shell.execute_reply.started": "2022-10-15T14:06:33.502026Z"
        },
        "id": "4ns6L5xQ-TlF",
        "trusted": true
      },
      "outputs": [],
      "source": [
        "df['addr1'].fillna(df['addr1'].median(), inplace=True)"
      ]
    },
    {
      "cell_type": "code",
      "execution_count": 27,
      "metadata": {
        "id": "Rimp7MuCB2p2"
      },
      "outputs": [],
      "source": [
        "# df['dist1'].describe()"
      ]
    },
    {
      "cell_type": "code",
      "execution_count": 28,
      "metadata": {
        "id": "iRUqRbLiB8WH"
      },
      "outputs": [],
      "source": [
        "# df['dist1'].fillna(0, inplace=True)"
      ]
    },
    {
      "cell_type": "code",
      "execution_count": 29,
      "metadata": {
        "colab": {
          "base_uri": "https://localhost:8080/"
        },
        "execution": {
          "iopub.execute_input": "2022-10-15T14:06:33.938124Z",
          "iopub.status.busy": "2022-10-15T14:06:33.937533Z",
          "iopub.status.idle": "2022-10-15T14:06:34.012585Z",
          "shell.execute_reply": "2022-10-15T14:06:34.011205Z",
          "shell.execute_reply.started": "2022-10-15T14:06:33.938085Z"
        },
        "id": "GY2rs8tt-TlG",
        "outputId": "3dbe1586-1b68-4d3f-b781-8afe5be5732f",
        "trusted": true
      },
      "outputs": [
        {
          "output_type": "execute_result",
          "data": {
            "text/plain": [
              "count        496084\n",
              "unique           59\n",
              "top       gmail.com\n",
              "freq         228355\n",
              "Name: P_emaildomain, dtype: object"
            ]
          },
          "metadata": {},
          "execution_count": 29
        }
      ],
      "source": [
        "df['P_emaildomain'].describe()"
      ]
    },
    {
      "cell_type": "code",
      "execution_count": 30,
      "metadata": {
        "execution": {
          "iopub.execute_input": "2022-10-15T14:06:34.014346Z",
          "iopub.status.busy": "2022-10-15T14:06:34.013960Z",
          "iopub.status.idle": "2022-10-15T14:06:34.052538Z",
          "shell.execute_reply": "2022-10-15T14:06:34.050972Z",
          "shell.execute_reply.started": "2022-10-15T14:06:34.014310Z"
        },
        "id": "T5DUMeZr-TlH",
        "trusted": true
      },
      "outputs": [],
      "source": [
        "df['P_emaildomain'].fillna('gmail.com', inplace=True)"
      ]
    },
    {
      "cell_type": "code",
      "execution_count": 31,
      "metadata": {
        "colab": {
          "base_uri": "https://localhost:8080/"
        },
        "execution": {
          "iopub.execute_input": "2022-10-15T14:06:34.054439Z",
          "iopub.status.busy": "2022-10-15T14:06:34.054021Z",
          "iopub.status.idle": "2022-10-15T14:06:36.871649Z",
          "shell.execute_reply": "2022-10-15T14:06:36.870401Z",
          "shell.execute_reply.started": "2022-10-15T14:06:34.054378Z"
        },
        "id": "GYUGiyUC-TlH",
        "outputId": "bdc9853a-d276-4c97-cafa-97069e43f017",
        "trusted": true
      },
      "outputs": [
        {
          "output_type": "stream",
          "name": "stdout",
          "text": [
            "card4\n",
            "card6\n",
            "M1\n",
            "M2\n",
            "M3\n",
            "M4\n",
            "M6\n"
          ]
        }
      ],
      "source": [
        "#Filling all categorical dataset with their mode\n",
        "for column in df.columns[1:]:\n",
        "    if(df[column].isna().sum() > 0):\n",
        "        if(df[column].dtype == 'object'):\n",
        "            df[column].fillna(df[column].mode(dropna =True)[0], inplace = True)\n",
        "            print(column)"
      ]
    },
    {
      "cell_type": "code",
      "execution_count": 32,
      "metadata": {
        "colab": {
          "base_uri": "https://localhost:8080/"
        },
        "execution": {
          "iopub.execute_input": "2022-10-15T14:06:42.494802Z",
          "iopub.status.busy": "2022-10-15T14:06:42.494262Z",
          "iopub.status.idle": "2022-10-15T14:06:42.555667Z",
          "shell.execute_reply": "2022-10-15T14:06:42.553589Z",
          "shell.execute_reply.started": "2022-10-15T14:06:42.494756Z"
        },
        "id": "Zg2WdaAA-TlJ",
        "outputId": "bbf5d839-5777-4365-de64-7fdc193201c5",
        "trusted": true
      },
      "outputs": [
        {
          "output_type": "execute_result",
          "data": {
            "text/plain": [
              "count    421618.000000\n",
              "mean        140.002441\n",
              "std         191.096774\n",
              "min        -122.000000\n",
              "25%           0.000000\n",
              "50%          26.000000\n",
              "75%         253.000000\n",
              "max         869.000000\n",
              "Name: D4, dtype: float64"
            ]
          },
          "metadata": {},
          "execution_count": 32
        }
      ],
      "source": [
        "df['D4'].describe()"
      ]
    },
    {
      "cell_type": "code",
      "execution_count": 33,
      "metadata": {
        "colab": {
          "base_uri": "https://localhost:8080/",
          "height": 285
        },
        "execution": {
          "iopub.execute_input": "2022-10-15T14:06:42.557914Z",
          "iopub.status.busy": "2022-10-15T14:06:42.557462Z",
          "iopub.status.idle": "2022-10-15T14:06:42.874843Z",
          "shell.execute_reply": "2022-10-15T14:06:42.873822Z",
          "shell.execute_reply.started": "2022-10-15T14:06:42.557877Z"
        },
        "id": "L8eZdp_Z-TlJ",
        "outputId": "fc08c5e9-759d-4fb7-c092-3718d4751ba8",
        "trusted": true
      },
      "outputs": [
        {
          "output_type": "execute_result",
          "data": {
            "text/plain": [
              "<matplotlib.axes._subplots.AxesSubplot at 0x7f366be4d510>"
            ]
          },
          "metadata": {},
          "execution_count": 33
        },
        {
          "output_type": "display_data",
          "data": {
            "text/plain": [
              "<Figure size 432x288 with 1 Axes>"
            ],
            "image/png": "[encoded data removed]"
          },
          "metadata": {
            "needs_background": "light"
          }
        }
      ],
      "source": [
        "df['D4'].hist(bins=30,color='darkred',alpha=0.7)"
      ]
    },
    {
      "cell_type": "code",
      "execution_count": 34,
      "metadata": {
        "execution": {
          "iopub.execute_input": "2022-10-15T14:06:42.885380Z",
          "iopub.status.busy": "2022-10-15T14:06:42.884873Z",
          "iopub.status.idle": "2022-10-15T14:06:42.917484Z",
          "shell.execute_reply": "2022-10-15T14:06:42.916283Z",
          "shell.execute_reply.started": "2022-10-15T14:06:42.885328Z"
        },
        "id": "8HmCnF4T-TlJ",
        "trusted": true
      },
      "outputs": [],
      "source": [
        "df['D4'].fillna(df['D4'].median(), inplace=True)"
      ]
    },
    {
      "cell_type": "code",
      "execution_count": 35,
      "metadata": {
        "colab": {
          "base_uri": "https://localhost:8080/"
        },
        "execution": {
          "iopub.execute_input": "2022-10-15T14:06:42.920067Z",
          "iopub.status.busy": "2022-10-15T14:06:42.919330Z",
          "iopub.status.idle": "2022-10-15T14:06:42.970454Z",
          "shell.execute_reply": "2022-10-15T14:06:42.969085Z",
          "shell.execute_reply.started": "2022-10-15T14:06:42.920027Z"
        },
        "id": "MClCd8Zp-TlK",
        "outputId": "1133787b-e62a-42a9-f71e-b23eccf8db99",
        "trusted": true
      },
      "outputs": [
        {
          "output_type": "execute_result",
          "data": {
            "text/plain": [
              "count    514518.000000\n",
              "mean        123.982137\n",
              "std         182.615225\n",
              "min           0.000000\n",
              "25%           0.000000\n",
              "50%          15.000000\n",
              "75%         197.000000\n",
              "max         876.000000\n",
              "Name: D10, dtype: float64"
            ]
          },
          "metadata": {},
          "execution_count": 35
        }
      ],
      "source": [
        "df['D10'].describe()"
      ]
    },
    {
      "cell_type": "code",
      "execution_count": 36,
      "metadata": {
        "colab": {
          "base_uri": "https://localhost:8080/",
          "height": 282
        },
        "execution": {
          "iopub.execute_input": "2022-10-15T14:06:42.972562Z",
          "iopub.status.busy": "2022-10-15T14:06:42.971995Z",
          "iopub.status.idle": "2022-10-15T14:06:43.272705Z",
          "shell.execute_reply": "2022-10-15T14:06:43.271399Z",
          "shell.execute_reply.started": "2022-10-15T14:06:42.972513Z"
        },
        "id": "dApBP8wt-TlK",
        "outputId": "a4c56e8d-dd83-4265-f3e5-488534d56aeb",
        "trusted": true
      },
      "outputs": [
        {
          "output_type": "execute_result",
          "data": {
            "text/plain": [
              "<matplotlib.axes._subplots.AxesSubplot at 0x7f365ffc57d0>"
            ]
          },
          "metadata": {},
          "execution_count": 36
        },
        {
          "output_type": "display_data",
          "data": {
            "text/plain": [
              "<Figure size 432x288 with 1 Axes>"
            ],
            "image/png": "[encoded data removed]"
          },
          "metadata": {
            "needs_background": "light"
          }
        }
      ],
      "source": [
        "df['D10'].hist(bins=30,color='darkred',alpha=0.7)"
      ]
    },
    {
      "cell_type": "code",
      "execution_count": 37,
      "metadata": {
        "execution": {
          "iopub.execute_input": "2022-10-15T14:06:43.282155Z",
          "iopub.status.busy": "2022-10-15T14:06:43.281372Z",
          "iopub.status.idle": "2022-10-15T14:06:43.306679Z",
          "shell.execute_reply": "2022-10-15T14:06:43.305642Z",
          "shell.execute_reply.started": "2022-10-15T14:06:43.282103Z"
        },
        "id": "uGD3Kc5P-TlL",
        "trusted": true
      },
      "outputs": [],
      "source": [
        "df['D10'].fillna(df['D10'].median(), inplace=True)"
      ]
    },
    {
      "cell_type": "code",
      "execution_count": 38,
      "metadata": {
        "colab": {
          "base_uri": "https://localhost:8080/",
          "height": 282
        },
        "execution": {
          "iopub.execute_input": "2022-10-15T14:06:43.308312Z",
          "iopub.status.busy": "2022-10-15T14:06:43.307971Z",
          "iopub.status.idle": "2022-10-15T14:06:43.631905Z",
          "shell.execute_reply": "2022-10-15T14:06:43.629746Z",
          "shell.execute_reply.started": "2022-10-15T14:06:43.308281Z"
        },
        "id": "W5N5ftJ9-TlL",
        "outputId": "8fb54c1b-7329-41d2-aaca-8987a7fc88b9",
        "trusted": true
      },
      "outputs": [
        {
          "output_type": "execute_result",
          "data": {
            "text/plain": [
              "<matplotlib.axes._subplots.AxesSubplot at 0x7f365fa6f550>"
            ]
          },
          "metadata": {},
          "execution_count": 38
        },
        {
          "output_type": "display_data",
          "data": {
            "text/plain": [
              "<Figure size 432x288 with 1 Axes>"
            ],
            "image/png": "[encoded data removed]"
          },
          "metadata": {
            "needs_background": "light"
          }
        }
      ],
      "source": [
        "df['D15'].hist(bins=30,color='darkred',alpha=0.7)"
      ]
    },
    {
      "cell_type": "code",
      "execution_count": 39,
      "metadata": {
        "execution": {
          "iopub.execute_input": "2022-10-15T14:06:43.635007Z",
          "iopub.status.busy": "2022-10-15T14:06:43.634363Z",
          "iopub.status.idle": "2022-10-15T14:06:43.661315Z",
          "shell.execute_reply": "2022-10-15T14:06:43.659935Z",
          "shell.execute_reply.started": "2022-10-15T14:06:43.634926Z"
        },
        "id": "DItC1Ho7-TlL",
        "trusted": true
      },
      "outputs": [],
      "source": [
        "df['D15'].fillna(df['D15'].median(), inplace=True)"
      ]
    },
    {
      "cell_type": "code",
      "execution_count": 40,
      "metadata": {
        "colab": {
          "base_uri": "https://localhost:8080/"
        },
        "execution": {
          "iopub.execute_input": "2022-10-15T14:06:43.664549Z",
          "iopub.status.busy": "2022-10-15T14:06:43.663039Z",
          "iopub.status.idle": "2022-10-15T14:06:43.720680Z",
          "shell.execute_reply": "2022-10-15T14:06:43.719304Z",
          "shell.execute_reply.started": "2022-10-15T14:06:43.664496Z"
        },
        "id": "vVxbmuNC-TlM",
        "outputId": "f08c55fe-7604-4ac7-ea4c-f51cdad0d00a",
        "trusted": true
      },
      "outputs": [
        {
          "output_type": "execute_result",
          "data": {
            "text/plain": [
              "count    514467.000000\n",
              "mean          0.559711\n",
              "std           0.510533\n",
              "min           0.000000\n",
              "25%           0.000000\n",
              "50%           1.000000\n",
              "75%           1.000000\n",
              "max           3.000000\n",
              "Name: V12, dtype: float64"
            ]
          },
          "metadata": {},
          "execution_count": 40
        }
      ],
      "source": [
        "df['V12'].describe()"
      ]
    },
    {
      "cell_type": "code",
      "execution_count": 41,
      "metadata": {
        "colab": {
          "base_uri": "https://localhost:8080/",
          "height": 282
        },
        "execution": {
          "iopub.execute_input": "2022-10-15T14:06:43.723506Z",
          "iopub.status.busy": "2022-10-15T14:06:43.722479Z",
          "iopub.status.idle": "2022-10-15T14:06:44.041198Z",
          "shell.execute_reply": "2022-10-15T14:06:44.039763Z",
          "shell.execute_reply.started": "2022-10-15T14:06:43.723454Z"
        },
        "id": "QC8sisGH-TlM",
        "outputId": "282a541e-2c9f-4927-f67e-33e2203ecd32",
        "trusted": true
      },
      "outputs": [
        {
          "output_type": "execute_result",
          "data": {
            "text/plain": [
              "<matplotlib.axes._subplots.AxesSubplot at 0x7f365f9d2910>"
            ]
          },
          "metadata": {},
          "execution_count": 41
        },
        {
          "output_type": "display_data",
          "data": {
            "text/plain": [
              "<Figure size 432x288 with 1 Axes>"
            ],
            "image/png": "[encoded data removed]"
          },
          "metadata": {
            "needs_background": "light"
          }
        }
      ],
      "source": [
        "df['V12'].hist(bins=30,color='darkred',alpha=0.7)"
      ]
    },
    {
      "cell_type": "code",
      "execution_count": 42,
      "metadata": {
        "execution": {
          "iopub.execute_input": "2022-10-15T14:06:44.044005Z",
          "iopub.status.busy": "2022-10-15T14:06:44.043243Z",
          "iopub.status.idle": "2022-10-15T14:06:44.058485Z",
          "shell.execute_reply": "2022-10-15T14:06:44.056796Z",
          "shell.execute_reply.started": "2022-10-15T14:06:44.043955Z"
        },
        "id": "keO5VVCq-TlM",
        "trusted": true
      },
      "outputs": [],
      "source": [
        "df['V12'].fillna(df['V12'].mean(), inplace=True)"
      ]
    },
    {
      "cell_type": "code",
      "execution_count": 43,
      "metadata": {
        "colab": {
          "base_uri": "https://localhost:8080/"
        },
        "execution": {
          "iopub.execute_input": "2022-10-15T14:06:44.062955Z",
          "iopub.status.busy": "2022-10-15T14:06:44.061634Z",
          "iopub.status.idle": "2022-10-15T14:06:44.116800Z",
          "shell.execute_reply": "2022-10-15T14:06:44.115174Z",
          "shell.execute_reply.started": "2022-10-15T14:06:44.062893Z"
        },
        "id": "miuXvKZ0-TlN",
        "outputId": "a5a80752-8c20-4a89-8fa9-c0784f448b59",
        "trusted": true
      },
      "outputs": [
        {
          "output_type": "execute_result",
          "data": {
            "text/plain": [
              "count    514467.000000\n",
              "mean          0.599166\n",
              "std           0.532185\n",
              "min           0.000000\n",
              "25%           0.000000\n",
              "50%           1.000000\n",
              "75%           1.000000\n",
              "max           6.000000\n",
              "Name: V13, dtype: float64"
            ]
          },
          "metadata": {},
          "execution_count": 43
        }
      ],
      "source": [
        "df['V13'].describe()"
      ]
    },
    {
      "cell_type": "code",
      "execution_count": 44,
      "metadata": {
        "colab": {
          "base_uri": "https://localhost:8080/",
          "height": 285
        },
        "execution": {
          "iopub.execute_input": "2022-10-15T14:06:44.119985Z",
          "iopub.status.busy": "2022-10-15T14:06:44.118766Z",
          "iopub.status.idle": "2022-10-15T14:06:44.436292Z",
          "shell.execute_reply": "2022-10-15T14:06:44.435007Z",
          "shell.execute_reply.started": "2022-10-15T14:06:44.119920Z"
        },
        "id": "5fys3uFa-TlN",
        "outputId": "70060d5a-735b-442f-d2bf-cb53b80870af",
        "trusted": true
      },
      "outputs": [
        {
          "output_type": "execute_result",
          "data": {
            "text/plain": [
              "<matplotlib.axes._subplots.AxesSubplot at 0x7f365f91f290>"
            ]
          },
          "metadata": {},
          "execution_count": 44
        },
        {
          "output_type": "display_data",
          "data": {
            "text/plain": [
              "<Figure size 432x288 with 1 Axes>"
            ],
            "image/png": "[encoded data removed]"
          },
          "metadata": {
            "needs_background": "light"
          }
        }
      ],
      "source": [
        "df['V13'].hist(bins=30,color='darkred',alpha=0.7)"
      ]
    },
    {
      "cell_type": "code",
      "execution_count": 45,
      "metadata": {
        "execution": {
          "iopub.execute_input": "2022-10-15T14:06:44.442552Z",
          "iopub.status.busy": "2022-10-15T14:06:44.441170Z",
          "iopub.status.idle": "2022-10-15T14:06:44.456460Z",
          "shell.execute_reply": "2022-10-15T14:06:44.454811Z",
          "shell.execute_reply.started": "2022-10-15T14:06:44.442502Z"
        },
        "id": "8CJNW1Be-TlO",
        "trusted": true
      },
      "outputs": [],
      "source": [
        "df['V13'].fillna(df['V13'].mean(), inplace=True)"
      ]
    },
    {
      "cell_type": "code",
      "execution_count": 46,
      "metadata": {
        "colab": {
          "base_uri": "https://localhost:8080/"
        },
        "execution": {
          "iopub.execute_input": "2022-10-15T14:06:44.499604Z",
          "iopub.status.busy": "2022-10-15T14:06:44.498323Z",
          "iopub.status.idle": "2022-10-15T14:06:44.545425Z",
          "shell.execute_reply": "2022-10-15T14:06:44.544277Z",
          "shell.execute_reply.started": "2022-10-15T14:06:44.499539Z"
        },
        "id": "lKdOcpO4-TlP",
        "outputId": "096ecf95-92b7-48e6-cb3b-06f38a575a54",
        "trusted": true
      },
      "outputs": [
        {
          "output_type": "execute_result",
          "data": {
            "text/plain": [
              "count    590540.000000\n",
              "mean        199.471611\n",
              "std          41.157610\n",
              "min         100.000000\n",
              "25%         166.000000\n",
              "50%         226.000000\n",
              "75%         226.000000\n",
              "max         237.000000\n",
              "Name: card5, dtype: float64"
            ]
          },
          "metadata": {},
          "execution_count": 46
        }
      ],
      "source": [
        "df[\"card5\"].describe()"
      ]
    },
    {
      "cell_type": "code",
      "execution_count": 47,
      "metadata": {
        "colab": {
          "base_uri": "https://localhost:8080/",
          "height": 286
        },
        "execution": {
          "iopub.execute_input": "2022-10-15T14:06:44.547646Z",
          "iopub.status.busy": "2022-10-15T14:06:44.547126Z",
          "iopub.status.idle": "2022-10-15T14:06:44.887083Z",
          "shell.execute_reply": "2022-10-15T14:06:44.885852Z",
          "shell.execute_reply.started": "2022-10-15T14:06:44.547594Z"
        },
        "id": "GO2h4XW9-TlP",
        "outputId": "98a71646-b8e1-4f54-e2c3-8442d9369aab",
        "trusted": true
      },
      "outputs": [
        {
          "output_type": "execute_result",
          "data": {
            "text/plain": [
              "<matplotlib.axes._subplots.AxesSubplot at 0x7f365f85c1d0>"
            ]
          },
          "metadata": {},
          "execution_count": 47
        },
        {
          "output_type": "display_data",
          "data": {
            "text/plain": [
              "<Figure size 432x288 with 1 Axes>"
            ],
            "image/png": "[encoded data removed]"
          },
          "metadata": {
            "needs_background": "light"
          }
        }
      ],
      "source": [
        "df['card5'].hist(bins=30,color='darkred',alpha=0.7)"
      ]
    },
    {
      "cell_type": "code",
      "execution_count": 48,
      "metadata": {
        "execution": {
          "iopub.execute_input": "2022-10-15T14:06:44.889926Z",
          "iopub.status.busy": "2022-10-15T14:06:44.888680Z",
          "iopub.status.idle": "2022-10-15T14:06:44.911842Z",
          "shell.execute_reply": "2022-10-15T14:06:44.910155Z",
          "shell.execute_reply.started": "2022-10-15T14:06:44.889869Z"
        },
        "id": "ZW46riNp-TlP",
        "trusted": true
      },
      "outputs": [],
      "source": [
        "df['card5'].fillna(df['card5'].median(), inplace=True)"
      ]
    },
    {
      "cell_type": "code",
      "execution_count": 49,
      "metadata": {
        "colab": {
          "base_uri": "https://localhost:8080/"
        },
        "execution": {
          "iopub.execute_input": "2022-10-15T14:06:44.914398Z",
          "iopub.status.busy": "2022-10-15T14:06:44.913950Z",
          "iopub.status.idle": "2022-10-15T14:06:44.960995Z",
          "shell.execute_reply": "2022-10-15T14:06:44.959581Z",
          "shell.execute_reply.started": "2022-10-15T14:06:44.914359Z"
        },
        "id": "jpzN8AGO-TlQ",
        "outputId": "b45fbe80-69ce-495e-afd7-c63bcd5f825f",
        "trusted": true
      },
      "outputs": [
        {
          "output_type": "execute_result",
          "data": {
            "text/plain": [
              "count    589271.000000\n",
              "mean         94.347568\n",
              "std         157.660387\n",
              "min           0.000000\n",
              "25%           0.000000\n",
              "50%           3.000000\n",
              "75%         122.000000\n",
              "max         640.000000\n",
              "Name: D1, dtype: float64"
            ]
          },
          "metadata": {},
          "execution_count": 49
        }
      ],
      "source": [
        "df[\"D1\"].describe()"
      ]
    },
    {
      "cell_type": "code",
      "execution_count": 50,
      "metadata": {
        "colab": {
          "base_uri": "https://localhost:8080/",
          "height": 282
        },
        "execution": {
          "iopub.execute_input": "2022-10-15T14:06:44.963361Z",
          "iopub.status.busy": "2022-10-15T14:06:44.962387Z",
          "iopub.status.idle": "2022-10-15T14:06:45.283474Z",
          "shell.execute_reply": "2022-10-15T14:06:45.282090Z",
          "shell.execute_reply.started": "2022-10-15T14:06:44.963323Z"
        },
        "id": "xzn48uME-TlQ",
        "outputId": "135f80ae-16d5-4ea2-8317-357c2588ffea",
        "trusted": true
      },
      "outputs": [
        {
          "output_type": "execute_result",
          "data": {
            "text/plain": [
              "<matplotlib.axes._subplots.AxesSubplot at 0x7f365f73aed0>"
            ]
          },
          "metadata": {},
          "execution_count": 50
        },
        {
          "output_type": "display_data",
          "data": {
            "text/plain": [
              "<Figure size 432x288 with 1 Axes>"
            ],
            "image/png": "[encoded data removed]"
          },
          "metadata": {
            "needs_background": "light"
          }
        }
      ],
      "source": [
        "df['D1'].hist(bins=30,color='darkred',alpha=0.7)"
      ]
    },
    {
      "cell_type": "code",
      "execution_count": 51,
      "metadata": {
        "execution": {
          "iopub.execute_input": "2022-10-15T14:06:45.285577Z",
          "iopub.status.busy": "2022-10-15T14:06:45.285197Z",
          "iopub.status.idle": "2022-10-15T14:06:45.307153Z",
          "shell.execute_reply": "2022-10-15T14:06:45.305835Z",
          "shell.execute_reply.started": "2022-10-15T14:06:45.285541Z"
        },
        "id": "AmYuJu7O-TlQ",
        "trusted": true
      },
      "outputs": [],
      "source": [
        "df['D1'].fillna(df['D1'].median(), inplace=True)"
      ]
    },
    {
      "cell_type": "code",
      "execution_count": 52,
      "metadata": {
        "colab": {
          "base_uri": "https://localhost:8080/",
          "height": 282
        },
        "id": "uMA-WazJDOk9",
        "outputId": "ceec1641-6bdc-4e5b-c69e-4ef57c743805"
      },
      "outputs": [
        {
          "output_type": "execute_result",
          "data": {
            "text/plain": [
              "<matplotlib.axes._subplots.AxesSubplot at 0x7f365f6cbed0>"
            ]
          },
          "metadata": {},
          "execution_count": 52
        },
        {
          "output_type": "display_data",
          "data": {
            "text/plain": [
              "<Figure size 432x288 with 1 Axes>"
            ],
            "image/png": "[encoded data removed]"
          },
          "metadata": {
            "needs_background": "light"
          }
        }
      ],
      "source": [
        "df['D3'].hist(bins=30,color='darkred',alpha=0.7)"
      ]
    },
    {
      "cell_type": "code",
      "execution_count": 53,
      "metadata": {
        "id": "3j8qj05hDYUm"
      },
      "outputs": [],
      "source": [
        "df['D3'].fillna(df['D3'].median(), inplace=True)"
      ]
    },
    {
      "cell_type": "code",
      "execution_count": 54,
      "metadata": {
        "colab": {
          "base_uri": "https://localhost:8080/",
          "height": 282
        },
        "id": "_MeZFaxNDbZh",
        "outputId": "56745cfc-4014-496a-cea1-72d24f265561"
      },
      "outputs": [
        {
          "output_type": "execute_result",
          "data": {
            "text/plain": [
              "<matplotlib.axes._subplots.AxesSubplot at 0x7f365f5fc590>"
            ]
          },
          "metadata": {},
          "execution_count": 54
        },
        {
          "output_type": "display_data",
          "data": {
            "text/plain": [
              "<Figure size 432x288 with 1 Axes>"
            ],
            "image/png": "[encoded data removed]"
          },
          "metadata": {
            "needs_background": "light"
          }
        }
      ],
      "source": [
        "df['D11'].hist(bins=30,color='darkred',alpha=0.7)"
      ]
    },
    {
      "cell_type": "code",
      "execution_count": 55,
      "metadata": {
        "id": "jsFbGSEfDe6D"
      },
      "outputs": [],
      "source": [
        "df['D11'].fillna(df['D11'].median(), inplace=True)"
      ]
    },
    {
      "cell_type": "code",
      "execution_count": 56,
      "metadata": {
        "colab": {
          "base_uri": "https://localhost:8080/"
        },
        "execution": {
          "iopub.execute_input": "2022-10-15T14:06:45.309888Z",
          "iopub.status.busy": "2022-10-15T14:06:45.309504Z",
          "iopub.status.idle": "2022-10-15T14:06:47.257755Z",
          "shell.execute_reply": "2022-10-15T14:06:47.256306Z",
          "shell.execute_reply.started": "2022-10-15T14:06:45.309853Z"
        },
        "id": "9s4jDhZS-TlQ",
        "outputId": "5d948aa4-a00c-4355-863d-5ed99231fb46",
        "trusted": true
      },
      "outputs": [
        {
          "output_type": "stream",
          "name": "stdout",
          "text": [
            "V10 0.4639152072429824 0.0 0.0\n",
            "V29 0.3878402307631004 0.0 0.0\n",
            "V35 0.5425942486556239 1.0 1.0\n",
            "V36 0.5791978100960455 1.0 1.0\n",
            "V48 0.3831738900446188 0.0 0.0\n",
            "V53 0.5775858710979191 1.0 1.0\n",
            "V54 0.6199819259744003 1.0 1.0\n",
            "V69 0.3902002944819688 0.0 0.0\n",
            "V75 0.5442781465407199 1.0 1.0\n",
            "V76 0.5875570430176156 1.0 1.0\n",
            "V90 0.40186207556803677 0.0 0.0\n",
            "V96 3.0051895375669657 0.0 0.0\n",
            "V99 0.8949859884179958 0.0 0.0\n",
            "V130 92.16584942117251 0.0 0.0\n",
            "V282 0.8171707075352427 1.0 1.0\n",
            "V283 0.9911144447970458 1.0 1.0\n",
            "V285 1.1676601278855532 0.0 0.0\n",
            "V310 118.19565806086851 0.0 0.0\n"
          ]
        }
      ],
      "source": [
        "for column in df.columns[1:]:\n",
        "    if(df[column].isna().sum() > 0):\n",
        "        print(column,df[column].mean(),df[column].median(),df[column].mode()[0])"
      ]
    },
    {
      "cell_type": "code",
      "execution_count": 57,
      "metadata": {
        "colab": {
          "base_uri": "https://localhost:8080/",
          "height": 282
        },
        "execution": {
          "iopub.execute_input": "2022-10-15T14:06:47.260240Z",
          "iopub.status.busy": "2022-10-15T14:06:47.259803Z",
          "iopub.status.idle": "2022-10-15T14:06:47.581033Z",
          "shell.execute_reply": "2022-10-15T14:06:47.579892Z",
          "shell.execute_reply.started": "2022-10-15T14:06:47.260197Z"
        },
        "id": "fib-qD_W-TlQ",
        "outputId": "02639fdb-3d7a-4c36-c2a0-64b530980d3d",
        "trusted": true
      },
      "outputs": [
        {
          "output_type": "execute_result",
          "data": {
            "text/plain": [
              "<matplotlib.axes._subplots.AxesSubplot at 0x7f365f51d810>"
            ]
          },
          "metadata": {},
          "execution_count": 57
        },
        {
          "output_type": "display_data",
          "data": {
            "text/plain": [
              "<Figure size 432x288 with 1 Axes>"
            ],
            "image/png": "[encoded data removed]"
          },
          "metadata": {
            "needs_background": "light"
          }
        }
      ],
      "source": [
        "df['V310'].hist(bins=30,color='darkred',alpha=0.7)"
      ]
    },
    {
      "cell_type": "code",
      "execution_count": 58,
      "metadata": {
        "colab": {
          "base_uri": "https://localhost:8080/",
          "height": 282
        },
        "execution": {
          "iopub.execute_input": "2022-10-15T14:06:47.582725Z",
          "iopub.status.busy": "2022-10-15T14:06:47.582360Z",
          "iopub.status.idle": "2022-10-15T14:06:47.884215Z",
          "shell.execute_reply": "2022-10-15T14:06:47.883318Z",
          "shell.execute_reply.started": "2022-10-15T14:06:47.582690Z"
        },
        "id": "O2UNNKrR-TlQ",
        "outputId": "475e1324-4b76-45c9-da7e-bdfadc2d97e3",
        "trusted": true
      },
      "outputs": [
        {
          "output_type": "execute_result",
          "data": {
            "text/plain": [
              "<matplotlib.axes._subplots.AxesSubplot at 0x7f365f7f4ed0>"
            ]
          },
          "metadata": {},
          "execution_count": 58
        },
        {
          "output_type": "display_data",
          "data": {
            "text/plain": [
              "<Figure size 432x288 with 1 Axes>"
            ],
            "image/png": "[encoded data removed]"
          },
          "metadata": {
            "needs_background": "light"
          }
        }
      ],
      "source": [
        "df['V130'].hist(bins=30,color='darkred',alpha=0.7)"
      ]
    },
    {
      "cell_type": "code",
      "execution_count": 59,
      "metadata": {
        "colab": {
          "base_uri": "https://localhost:8080/",
          "height": 282
        },
        "execution": {
          "iopub.execute_input": "2022-10-15T14:06:47.886579Z",
          "iopub.status.busy": "2022-10-15T14:06:47.885471Z",
          "iopub.status.idle": "2022-10-15T14:06:48.205628Z",
          "shell.execute_reply": "2022-10-15T14:06:48.204661Z",
          "shell.execute_reply.started": "2022-10-15T14:06:47.886541Z"
        },
        "id": "pVhDNVpq-TlR",
        "outputId": "f5845d58-f98a-4fe8-b68f-bb9984da506b",
        "trusted": true
      },
      "outputs": [
        {
          "output_type": "execute_result",
          "data": {
            "text/plain": [
              "<matplotlib.axes._subplots.AxesSubplot at 0x7f365f3a8b10>"
            ]
          },
          "metadata": {},
          "execution_count": 59
        },
        {
          "output_type": "display_data",
          "data": {
            "text/plain": [
              "<Figure size 432x288 with 1 Axes>"
            ],
            "image/png": "[encoded data removed]"
          },
          "metadata": {
            "needs_background": "light"
          }
        }
      ],
      "source": [
        "df['V96'].hist(bins=30,color='darkred',alpha=0.7)"
      ]
    },
    {
      "cell_type": "code",
      "execution_count": 60,
      "metadata": {
        "colab": {
          "base_uri": "https://localhost:8080/",
          "height": 282
        },
        "execution": {
          "iopub.execute_input": "2022-10-15T14:06:48.208270Z",
          "iopub.status.busy": "2022-10-15T14:06:48.207755Z",
          "iopub.status.idle": "2022-10-15T14:06:48.506951Z",
          "shell.execute_reply": "2022-10-15T14:06:48.505426Z",
          "shell.execute_reply.started": "2022-10-15T14:06:48.208215Z"
        },
        "id": "xqneB17m-TlR",
        "outputId": "7378c2b0-f02f-4dfd-9105-0838f4988abd",
        "trusted": true
      },
      "outputs": [
        {
          "output_type": "execute_result",
          "data": {
            "text/plain": [
              "<matplotlib.axes._subplots.AxesSubplot at 0x7f365f2b7710>"
            ]
          },
          "metadata": {},
          "execution_count": 60
        },
        {
          "output_type": "display_data",
          "data": {
            "text/plain": [
              "<Figure size 432x288 with 1 Axes>"
            ],
            "image/png": "[encoded data removed]"
          },
          "metadata": {
            "needs_background": "light"
          }
        }
      ],
      "source": [
        "df['V285'].hist(bins=30,color='darkred',alpha=0.7)"
      ]
    },
    {
      "cell_type": "code",
      "execution_count": 61,
      "metadata": {
        "execution": {
          "iopub.execute_input": "2022-10-15T14:06:48.508979Z",
          "iopub.status.busy": "2022-10-15T14:06:48.508498Z",
          "iopub.status.idle": "2022-10-15T14:06:48.571031Z",
          "shell.execute_reply": "2022-10-15T14:06:48.570000Z",
          "shell.execute_reply.started": "2022-10-15T14:06:48.508930Z"
        },
        "id": "FSbfGsa9-TlS",
        "trusted": true
      },
      "outputs": [],
      "source": [
        "df['V310'].fillna(df['V310'].median(), inplace=True)\n",
        "df['V130'].fillna(df['V130'].median(), inplace=True)\n",
        "df['V96'].fillna(df['V96'].median(), inplace=True)\n",
        "df['V285'].fillna(df['V285'].median(), inplace=True)"
      ]
    },
    {
      "cell_type": "code",
      "execution_count": 62,
      "metadata": {
        "colab": {
          "base_uri": "https://localhost:8080/"
        },
        "execution": {
          "iopub.execute_input": "2022-10-15T14:06:48.573831Z",
          "iopub.status.busy": "2022-10-15T14:06:48.572243Z",
          "iopub.status.idle": "2022-10-15T14:06:49.915635Z",
          "shell.execute_reply": "2022-10-15T14:06:49.914357Z",
          "shell.execute_reply.started": "2022-10-15T14:06:48.573774Z"
        },
        "id": "jqAmzmw4-TlS",
        "outputId": "63d680e3-9ac1-4a8c-b215-5d86209ad8af",
        "trusted": true
      },
      "outputs": [
        {
          "output_type": "stream",
          "name": "stdout",
          "text": [
            "V10\n",
            "V29\n",
            "V35\n",
            "V36\n",
            "V48\n",
            "V53\n",
            "V54\n",
            "V69\n",
            "V75\n",
            "V76\n",
            "V90\n",
            "V99\n",
            "V282\n",
            "V283\n"
          ]
        }
      ],
      "source": [
        "for column in df.columns[1:]:\n",
        "    if(df[column].isna().sum() > 0):\n",
        "      print(column)"
      ]
    },
    {
      "cell_type": "code",
      "execution_count": 63,
      "metadata": {
        "colab": {
          "base_uri": "https://localhost:8080/",
          "height": 282
        },
        "id": "hUbFLKouvumM",
        "outputId": "618c40e5-a877-44c5-b96c-a928aea7f196"
      },
      "outputs": [
        {
          "output_type": "execute_result",
          "data": {
            "text/plain": [
              "<matplotlib.axes._subplots.AxesSubplot at 0x7f365f1bda50>"
            ]
          },
          "metadata": {},
          "execution_count": 63
        },
        {
          "output_type": "display_data",
          "data": {
            "text/plain": [
              "<Figure size 432x288 with 1 Axes>"
            ],
            "image/png": "[encoded data removed]"
          },
          "metadata": {
            "needs_background": "light"
          }
        }
      ],
      "source": [
        "df['V283'].hist(bins=30,color='darkred',alpha=0.7)"
      ]
    },
    {
      "cell_type": "code",
      "execution_count": 64,
      "metadata": {
        "id": "_btkyporwjn0"
      },
      "outputs": [],
      "source": [
        "df['V99'].fillna(df['V99'].median(), inplace=True)\n",
        "df['V282'].fillna(df['V282'].median(), inplace=True)\n",
        "df['V283'].fillna(df['V283'].median(), inplace=True)"
      ]
    },
    {
      "cell_type": "code",
      "execution_count": 65,
      "metadata": {
        "id": "YaHK6BrHwvYf"
      },
      "outputs": [],
      "source": [
        "for column in df.columns[1:]:\n",
        "    if(df[column].isna().sum() > 0):\n",
        "      df[column].fillna(df[column].mean(), inplace=True)"
      ]
    },
    {
      "cell_type": "code",
      "execution_count": 66,
      "metadata": {
        "colab": {
          "base_uri": "https://localhost:8080/"
        },
        "execution": {
          "iopub.execute_input": "2022-10-15T14:06:49.917307Z",
          "iopub.status.busy": "2022-10-15T14:06:49.916936Z",
          "iopub.status.idle": "2022-10-15T14:06:51.105385Z",
          "shell.execute_reply": "2022-10-15T14:06:51.103838Z",
          "shell.execute_reply.started": "2022-10-15T14:06:49.917272Z"
        },
        "id": "U3su3wpk-TlS",
        "outputId": "a008fa4c-134d-42c7-bb3f-078fd5e71d01",
        "trusted": true
      },
      "outputs": [
        {
          "output_type": "execute_result",
          "data": {
            "text/plain": [
              "0"
            ]
          },
          "metadata": {},
          "execution_count": 66
        }
      ],
      "source": [
        "df.isna().sum().sum()"
      ]
    },
    {
      "cell_type": "code",
      "source": [
        "class OutlierRemoval: \n",
        "    def __init__(self, lower_quartile, upper_quartile):\n",
        "        self.lower_whisker = lower_quartile - 1.5*(upper_quartile - lower_quartile)\n",
        "        self.upper_whisker = upper_quartile + 1.5*(upper_quartile - lower_quartile)\n",
        "    def removeOutlier(self, x):\n",
        "        return (x if x <= self.upper_whisker and x >= self.lower_whisker else (self.lower_whisker if x < self.lower_whisker else (self.upper_whisker)))\n",
        "        \n",
        "for column in df.columns[1:]:\n",
        "    if(df[column].dtype.kind in 'biufc' and column != 'isFraud'):\n",
        "      outlier_remover = OutlierRemoval(df[column].quantile(0.25), df[column].quantile(0.75))\n",
        "      df[column] = df[column].apply(outlier_remover.removeOutlier)"
      ],
      "metadata": {
        "id": "Phaq2QHedHbO"
      },
      "execution_count": 67,
      "outputs": []
    },
    {
      "cell_type": "code",
      "execution_count": 68,
      "metadata": {
        "execution": {
          "iopub.execute_input": "2022-10-15T14:06:51.108756Z",
          "iopub.status.busy": "2022-10-15T14:06:51.107151Z",
          "iopub.status.idle": "2022-10-15T14:06:59.455296Z",
          "shell.execute_reply": "2022-10-15T14:06:59.454023Z",
          "shell.execute_reply.started": "2022-10-15T14:06:51.108704Z"
        },
        "id": "zZlbRj7q-TlT",
        "trusted": true
      },
      "outputs": [],
      "source": [
        "#One hot encoding\n",
        "columns_e = []\n",
        "for column in df.columns[1:]:\n",
        "    if(df[column].dtype.kind not in 'biufc'):\n",
        "        columns_e.append(column)\n",
        "columns_e\n",
        "df = pd.get_dummies(df, columns=columns_e)\n",
        "n = len(df)"
      ]
    },
    {
      "cell_type": "code",
      "execution_count": 69,
      "metadata": {
        "execution": {
          "iopub.execute_input": "2022-10-15T14:06:59.457385Z",
          "iopub.status.busy": "2022-10-15T14:06:59.456969Z",
          "iopub.status.idle": "2022-10-15T14:06:59.464133Z",
          "shell.execute_reply": "2022-10-15T14:06:59.462776Z",
          "shell.execute_reply.started": "2022-10-15T14:06:59.457348Z"
        },
        "id": "3J_HwhQp-TlT",
        "trusted": true
      },
      "outputs": [],
      "source": [
        "X_train = df.iloc[:(df.shape[0]-test.shape[0]),:]\n",
        "X_test = df.iloc[(df.shape[0]-test.shape[0]):,:]"
      ]
    },
    {
      "cell_type": "code",
      "execution_count": 70,
      "metadata": {
        "colab": {
          "base_uri": "https://localhost:8080/",
          "height": 235
        },
        "id": "VPgkjRZKFJDQ",
        "outputId": "07737596-aede-4669-c85e-b8162ecb4227"
      },
      "outputs": [
        {
          "output_type": "execute_result",
          "data": {
            "text/plain": [
              "   TransactionID  TransactionAmt  card1  card2  card3  card5  addr1  addr2  \\\n",
              "0        3424175           49.00   5033  269.0  150.0  224.0  330.0   87.0   \n",
              "1        3206179           57.95   4527  376.0  150.0  226.0  441.0   87.0   \n",
              "2        3410455          115.95   2772  512.0  150.0  226.0  143.0   87.0   \n",
              "3        3058578          100.00  14290  512.0  150.0  226.0  177.0   87.0   \n",
              "4        3242131           95.00  12839  321.0  150.0  226.0  220.0   87.0   \n",
              "\n",
              "    C1   C3  ...  M1_T  M2_F  M2_T  M3_F  M3_T  M4_M0  M4_M1  M4_M2  M6_F  \\\n",
              "0  2.0  0.0  ...     1     0     1     0     1      1      0      0     1   \n",
              "1  2.0  0.0  ...     1     0     1     0     1      1      0      0     1   \n",
              "2  2.0  0.0  ...     1     0     1     0     1      1      0      0     0   \n",
              "3  1.0  0.0  ...     1     0     1     0     1      1      0      0     1   \n",
              "4  6.0  0.0  ...     1     0     1     0     1      1      0      0     1   \n",
              "\n",
              "   M6_T  \n",
              "0     0  \n",
              "1     0  \n",
              "2     1  \n",
              "3     0  \n",
              "4     0  \n",
              "\n",
              "[5 rows x 228 columns]"
            ],
            "text/html": [
              "\n",
              "  <div id=\"df-e283f5a3-5879-4ca5-b869-c94278759ae6\">\n",
              "    <div class=\"colab-df-container\">\n",
              "      <div>\n",
              "<style scoped>\n",
              "    .dataframe tbody tr th:only-of-type {\n",
              "        vertical-align: middle;\n",
              "    }\n",
              "\n",
              "    .dataframe tbody tr th {\n",
              "        vertical-align: top;\n",
              "    }\n",
              "\n",
              "    .dataframe thead th {\n",
              "        text-align: right;\n",
              "    }\n",
              "</style>\n",
              "<table border=\"1\" class=\"dataframe\">\n",
              "  <thead>\n",
              "    <tr style=\"text-align: right;\">\n",
              "      <th></th>\n",
              "      <th>TransactionID</th>\n",
              "      <th>TransactionAmt</th>\n",
              "      <th>card1</th>\n",
              "      <th>card2</th>\n",
              "      <th>card3</th>\n",
              "      <th>card5</th>\n",
              "      <th>addr1</th>\n",
              "      <th>addr2</th>\n",
              "      <th>C1</th>\n",
              "      <th>C3</th>\n",
              "      <th>...</th>\n",
              "      <th>M1_T</th>\n",
              "      <th>M2_F</th>\n",
              "      <th>M2_T</th>\n",
              "      <th>M3_F</th>\n",
              "      <th>M3_T</th>\n",
              "      <th>M4_M0</th>\n",
              "      <th>M4_M1</th>\n",
              "      <th>M4_M2</th>\n",
              "      <th>M6_F</th>\n",
              "      <th>M6_T</th>\n",
              "    </tr>\n",
              "  </thead>\n",
              "  <tbody>\n",
              "    <tr>\n",
              "      <th>0</th>\n",
              "      <td>3424175</td>\n",
              "      <td>49.00</td>\n",
              "      <td>5033</td>\n",
              "      <td>269.0</td>\n",
              "      <td>150.0</td>\n",
              "      <td>224.0</td>\n",
              "      <td>330.0</td>\n",
              "      <td>87.0</td>\n",
              "      <td>2.0</td>\n",
              "      <td>0.0</td>\n",
              "      <td>...</td>\n",
              "      <td>1</td>\n",
              "      <td>0</td>\n",
              "      <td>1</td>\n",
              "      <td>0</td>\n",
              "      <td>1</td>\n",
              "      <td>1</td>\n",
              "      <td>0</td>\n",
              "      <td>0</td>\n",
              "      <td>1</td>\n",
              "      <td>0</td>\n",
              "    </tr>\n",
              "    <tr>\n",
              "      <th>1</th>\n",
              "      <td>3206179</td>\n",
              "      <td>57.95</td>\n",
              "      <td>4527</td>\n",
              "      <td>376.0</td>\n",
              "      <td>150.0</td>\n",
              "      <td>226.0</td>\n",
              "      <td>441.0</td>\n",
              "      <td>87.0</td>\n",
              "      <td>2.0</td>\n",
              "      <td>0.0</td>\n",
              "      <td>...</td>\n",
              "      <td>1</td>\n",
              "      <td>0</td>\n",
              "      <td>1</td>\n",
              "      <td>0</td>\n",
              "      <td>1</td>\n",
              "      <td>1</td>\n",
              "      <td>0</td>\n",
              "      <td>0</td>\n",
              "      <td>1</td>\n",
              "      <td>0</td>\n",
              "    </tr>\n",
              "    <tr>\n",
              "      <th>2</th>\n",
              "      <td>3410455</td>\n",
              "      <td>115.95</td>\n",
              "      <td>2772</td>\n",
              "      <td>512.0</td>\n",
              "      <td>150.0</td>\n",
              "      <td>226.0</td>\n",
              "      <td>143.0</td>\n",
              "      <td>87.0</td>\n",
              "      <td>2.0</td>\n",
              "      <td>0.0</td>\n",
              "      <td>...</td>\n",
              "      <td>1</td>\n",
              "      <td>0</td>\n",
              "      <td>1</td>\n",
              "      <td>0</td>\n",
              "      <td>1</td>\n",
              "      <td>1</td>\n",
              "      <td>0</td>\n",
              "      <td>0</td>\n",
              "      <td>0</td>\n",
              "      <td>1</td>\n",
              "    </tr>\n",
              "    <tr>\n",
              "      <th>3</th>\n",
              "      <td>3058578</td>\n",
              "      <td>100.00</td>\n",
              "      <td>14290</td>\n",
              "      <td>512.0</td>\n",
              "      <td>150.0</td>\n",
              "      <td>226.0</td>\n",
              "      <td>177.0</td>\n",
              "      <td>87.0</td>\n",
              "      <td>1.0</td>\n",
              "      <td>0.0</td>\n",
              "      <td>...</td>\n",
              "      <td>1</td>\n",
              "      <td>0</td>\n",
              "      <td>1</td>\n",
              "      <td>0</td>\n",
              "      <td>1</td>\n",
              "      <td>1</td>\n",
              "      <td>0</td>\n",
              "      <td>0</td>\n",
              "      <td>1</td>\n",
              "      <td>0</td>\n",
              "    </tr>\n",
              "    <tr>\n",
              "      <th>4</th>\n",
              "      <td>3242131</td>\n",
              "      <td>95.00</td>\n",
              "      <td>12839</td>\n",
              "      <td>321.0</td>\n",
              "      <td>150.0</td>\n",
              "      <td>226.0</td>\n",
              "      <td>220.0</td>\n",
              "      <td>87.0</td>\n",
              "      <td>6.0</td>\n",
              "      <td>0.0</td>\n",
              "      <td>...</td>\n",
              "      <td>1</td>\n",
              "      <td>0</td>\n",
              "      <td>1</td>\n",
              "      <td>0</td>\n",
              "      <td>1</td>\n",
              "      <td>1</td>\n",
              "      <td>0</td>\n",
              "      <td>0</td>\n",
              "      <td>1</td>\n",
              "      <td>0</td>\n",
              "    </tr>\n",
              "  </tbody>\n",
              "</table>\n",
              "<p>5 rows × 228 columns</p>\n",
              "</div>\n",
              "      <button class=\"colab-df-convert\" onclick=\"convertToInteractive('df-e283f5a3-5879-4ca5-b869-c94278759ae6')\"\n",
              "              title=\"Convert this dataframe to an interactive table.\"\n",
              "              style=\"display:none;\">\n",
              "        \n",
              "  <svg xmlns=\"http://www.w3.org/2000/svg\" height=\"24px\"viewBox=\"0 0 24 24\"\n",
              "       width=\"24px\">\n",
              "    <path d=\"M0 0h24v24H0V0z\" fill=\"none\"/>\n",
              "    <path d=\"M18.56 5.44l.94 2.06.94-2.06 2.06-.94-2.06-.94-.94-2.06-.94 2.06-2.06.94zm-11 1L8.5 8.5l.94-2.06 2.06-.94-2.06-.94L8.5 2.5l-.94 2.06-2.06.94zm10 10l.94 2.06.94-2.06 2.06-.94-2.06-.94-.94-2.06-.94 2.06-2.06.94z\"/><path d=\"M17.41 7.96l-1.37-1.37c-.4-.4-.92-.59-1.43-.59-.52 0-1.04.2-1.43.59L10.3 9.45l-7.72 7.72c-.78.78-.78 2.05 0 2.83L4 21.41c.39.39.9.59 1.41.59.51 0 1.02-.2 1.41-.59l7.78-7.78 2.81-2.81c.8-.78.8-2.07 0-2.86zM5.41 20L4 18.59l7.72-7.72 1.47 1.35L5.41 20z\"/>\n",
              "  </svg>\n",
              "      </button>\n",
              "      \n",
              "  <style>\n",
              "    .colab-df-container {\n",
              "      display:flex;\n",
              "      flex-wrap:wrap;\n",
              "      gap: 12px;\n",
              "    }\n",
              "\n",
              "    .colab-df-convert {\n",
              "      background-color: #E8F0FE;\n",
              "      border: none;\n",
              "      border-radius: 50%;\n",
              "      cursor: pointer;\n",
              "      display: none;\n",
              "      fill: #1967D2;\n",
              "      height: 32px;\n",
              "      padding: 0 0 0 0;\n",
              "      width: 32px;\n",
              "    }\n",
              "\n",
              "    .colab-df-convert:hover {\n",
              "      background-color: #E2EBFA;\n",
              "      box-shadow: 0px 1px 2px rgba(60, 64, 67, 0.3), 0px 1px 3px 1px rgba(60, 64, 67, 0.15);\n",
              "      fill: #174EA6;\n",
              "    }\n",
              "\n",
              "    [theme=dark] .colab-df-convert {\n",
              "      background-color: #3B4455;\n",
              "      fill: #D2E3FC;\n",
              "    }\n",
              "\n",
              "    [theme=dark] .colab-df-convert:hover {\n",
              "      background-color: #434B5C;\n",
              "      box-shadow: 0px 1px 3px 1px rgba(0, 0, 0, 0.15);\n",
              "      filter: drop-shadow(0px 1px 2px rgba(0, 0, 0, 0.3));\n",
              "      fill: #FFFFFF;\n",
              "    }\n",
              "  </style>\n",
              "\n",
              "      <script>\n",
              "        const buttonEl =\n",
              "          document.querySelector('#df-e283f5a3-5879-4ca5-b869-c94278759ae6 button.colab-df-convert');\n",
              "        buttonEl.style.display =\n",
              "          google.colab.kernel.accessAllowed ? 'block' : 'none';\n",
              "\n",
              "        async function convertToInteractive(key) {\n",
              "          const element = document.querySelector('#df-e283f5a3-5879-4ca5-b869-c94278759ae6');\n",
              "          const dataTable =\n",
              "            await google.colab.kernel.invokeFunction('convertToInteractive',\n",
              "                                                     [key], {});\n",
              "          if (!dataTable) return;\n",
              "\n",
              "          const docLinkHtml = 'Like what you see? Visit the ' +\n",
              "            '<a target=\"_blank\" href=https://colab.research.google.com/notebooks/data_table.ipynb>data table notebook</a>'\n",
              "            + ' to learn more about interactive tables.';\n",
              "          element.innerHTML = '';\n",
              "          dataTable['output_type'] = 'display_data';\n",
              "          await google.colab.output.renderOutput(dataTable, element);\n",
              "          const docLink = document.createElement('div');\n",
              "          docLink.innerHTML = docLinkHtml;\n",
              "          element.appendChild(docLink);\n",
              "        }\n",
              "      </script>\n",
              "    </div>\n",
              "  </div>\n",
              "  "
            ]
          },
          "metadata": {},
          "execution_count": 70
        }
      ],
      "source": [
        "X_train.head()"
      ]
    },
    {
      "cell_type": "code",
      "execution_count": 71,
      "metadata": {
        "id": "RnxVKV8_pSs7"
      },
      "outputs": [],
      "source": [
        "from sklearn.utils.random import sample_without_replacement"
      ]
    },
    {
      "cell_type": "code",
      "execution_count": 72,
      "metadata": {
        "id": "x-Zg3avf67zf"
      },
      "outputs": [],
      "source": [
        "from imblearn.pipeline import Pipeline\n",
        "from imblearn.over_sampling import RandomOverSampler\n",
        "from imblearn.under_sampling import RandomUnderSampler"
      ]
    },
    {
      "cell_type": "code",
      "execution_count": 73,
      "metadata": {
        "id": "tv1jFzemQrg-"
      },
      "outputs": [],
      "source": [
        "ros = RandomOverSampler(random_state=42)\n",
        "rus = RandomUnderSampler(random_state=42)"
      ]
    },
    {
      "cell_type": "code",
      "execution_count": 125,
      "metadata": {
        "id": "5ygcHUYQQYNc"
      },
      "outputs": [],
      "source": [
        "pipeline = Pipeline(steps=[('o', ros), ('u', rus)])\n",
        "X_res, y_res = rus.fit_resample(X_train, Y_train)"
      ]
    },
    {
      "cell_type": "code",
      "execution_count": 126,
      "metadata": {
        "colab": {
          "base_uri": "https://localhost:8080/"
        },
        "id": "kU4dTuYM8iC3",
        "outputId": "5bc96a77-00b7-4999-f869-83fb7b797b8d"
      },
      "outputs": [
        {
          "output_type": "execute_result",
          "data": {
            "text/plain": [
              "((30994, 228), (30994,))"
            ]
          },
          "metadata": {},
          "execution_count": 126
        }
      ],
      "source": [
        "X_res.shape,y_res.shape"
      ]
    },
    {
      "cell_type": "markdown",
      "metadata": {
        "id": "_xeU5wmzQUCU"
      },
      "source": [
        "#Randomized search CV for finding best parameters"
      ]
    },
    {
      "cell_type": "code",
      "execution_count": 76,
      "metadata": {
        "id": "1ERefZyFO3-Y"
      },
      "outputs": [],
      "source": [
        "from sklearn.model_selection import GridSearchCV"
      ]
    },
    {
      "cell_type": "code",
      "execution_count": 78,
      "metadata": {
        "id": "ufewmOmW9T4z"
      },
      "outputs": [],
      "source": [
        "## Hyperparameter optimization using RandomizedSearchCV\n",
        "from sklearn.model_selection import RandomizedSearchCV, GridSearchCV\n",
        "import xgboost"
      ]
    },
    {
      "cell_type": "code",
      "execution_count": 79,
      "metadata": {
        "id": "uN0SZmX-9Y-8"
      },
      "outputs": [],
      "source": [
        "def timer(start_time=None):\n",
        "    if not start_time:\n",
        "        start_time = datetime.now()\n",
        "        return start_time\n",
        "    elif start_time:\n",
        "        thour, temp_sec = divmod((datetime.now() - start_time).total_seconds(), 3600)\n",
        "        tmin, tsec = divmod(temp_sec, 60)\n",
        "        print('\\n Time taken: %i hours %i minutes and %s seconds.' % (thour, tmin, round(tsec, 2)))"
      ]
    },
    {
      "cell_type": "code",
      "source": [
        "# from sklearn import linear_model\n",
        "# C = np.logspace(0, 4, num=10)\n",
        "# penalty = ['l1', 'l2']\n",
        "# solver = ['liblinear', 'saga']\n",
        "# hyperparameters = dict(C=C, penalty=penalty, solver=solver)\n",
        "# logistic = linear_model.LogisticRegression()\n",
        "# gridsearch = GridSearchCV(logistic, hyperparameters)\n",
        "# best_model = gridsearch.fit(X_res, y_res)\n",
        "# print(best_model.best_estimator_)"
      ],
      "metadata": {
        "id": "NttlXaQYaOVV"
      },
      "execution_count": 123,
      "outputs": []
    },
    {
      "cell_type": "code",
      "source": [
        "from sklearn import linear_model\n",
        "C = np.logspace(0, 4, num=10)\n",
        "penalty = ['l1', 'l2']\n",
        "solver = ['liblinear', 'saga']\n",
        "hyperparameters = dict(C=C, penalty=penalty, solver=solver)\n",
        "logistic = linear_model.LogisticRegression()\n",
        "from sklearn.model_selection import RandomizedSearchCV\n",
        "randomizedsearch = RandomizedSearchCV(logistic, hyperparameters)\n",
        "best_model_random = randomizedsearch.fit(X_res, y_res)\n",
        "print(best_model_random.best_estimator_)"
      ],
      "metadata": {
        "id": "oolRRNGwaqjq",
        "outputId": "bfe23153-aa14-4c7e-c1d7-7b395fff10dd",
        "colab": {
          "base_uri": "https://localhost:8080/"
        }
      },
      "execution_count": 81,
      "outputs": [
        {
          "output_type": "stream",
          "name": "stdout",
          "text": [
            "LogisticRegression(C=3593.813663804626, penalty='l1', solver='liblinear')\n"
          ]
        },
        {
          "output_type": "stream",
          "name": "stderr",
          "text": [
            "/usr/local/lib/python3.7/dist-packages/sklearn/svm/_base.py:1208: ConvergenceWarning: Liblinear failed to converge, increase the number of iterations.\n",
            "  ConvergenceWarning,\n"
          ]
        }
      ]
    },
    {
      "cell_type": "code",
      "source": [
        "logistic = linear_model.LogisticRegression(C=3593.813663804626, penalty='l1', solver='liblinear')"
      ],
      "metadata": {
        "id": "i9q1T00_3nzT"
      },
      "execution_count": 82,
      "outputs": []
    },
    {
      "cell_type": "code",
      "source": [
        "logistic.fit(X_res, y_res)"
      ],
      "metadata": {
        "id": "QSVKQZgv3w58",
        "outputId": "a5565d44-ca9a-4acd-ffd3-1269784a566c",
        "colab": {
          "base_uri": "https://localhost:8080/"
        }
      },
      "execution_count": 83,
      "outputs": [
        {
          "output_type": "stream",
          "name": "stderr",
          "text": [
            "/usr/local/lib/python3.7/dist-packages/sklearn/svm/_base.py:1208: ConvergenceWarning: Liblinear failed to converge, increase the number of iterations.\n",
            "  ConvergenceWarning,\n"
          ]
        },
        {
          "output_type": "execute_result",
          "data": {
            "text/plain": [
              "LogisticRegression(C=3593.813663804626, penalty='l1', solver='liblinear')"
            ]
          },
          "metadata": {},
          "execution_count": 83
        }
      ]
    },
    {
      "cell_type": "code",
      "source": [
        "Y_pred = logistic.predict(X_test)"
      ],
      "metadata": {
        "id": "rwElEisw4pig"
      },
      "execution_count": 84,
      "outputs": []
    },
    {
      "cell_type": "code",
      "source": [
        "from sklearn.naive_bayes import GaussianNB\n",
        "param_distributions_nb = {\n",
        "    'var_smoothing': np.logspace(0,-9, num=100)\n",
        "}\n",
        "nbModel = RandomizedSearchCV(estimator=GaussianNB(), param_distributions=param_distributions_nb, verbose=1, cv=10, n_jobs=-1)\n",
        "best_model_random = nbModel.fit(X_res, y_res)\n",
        "print(best_model_random.best_estimator_)"
      ],
      "metadata": {
        "id": "f5HwG5Pw54ko",
        "outputId": "6038401c-8ba9-4304-bd28-dd5d224152da",
        "colab": {
          "base_uri": "https://localhost:8080/"
        }
      },
      "execution_count": 95,
      "outputs": [
        {
          "output_type": "stream",
          "name": "stdout",
          "text": [
            "Fitting 10 folds for each of 10 candidates, totalling 100 fits\n",
            "GaussianNB(var_smoothing=3.5111917342151277e-07)\n"
          ]
        }
      ]
    },
    {
      "cell_type": "code",
      "source": [
        "guassian = GaussianNB(var_smoothing=3.5111917342151277e-07)"
      ],
      "metadata": {
        "id": "_vidyMYK6qrf"
      },
      "execution_count": 96,
      "outputs": []
    },
    {
      "cell_type": "code",
      "source": [
        "guassian.fit(X_res, y_res)"
      ],
      "metadata": {
        "id": "eSLyBHJ36xAl",
        "outputId": "9c167d1d-4f9f-4aca-9121-38b12208b726",
        "colab": {
          "base_uri": "https://localhost:8080/"
        }
      },
      "execution_count": 97,
      "outputs": [
        {
          "output_type": "execute_result",
          "data": {
            "text/plain": [
              "GaussianNB(var_smoothing=3.5111917342151277e-07)"
            ]
          },
          "metadata": {},
          "execution_count": 97
        }
      ]
    },
    {
      "cell_type": "code",
      "source": [
        "Y_pred = guassian.predict(X_test)"
      ],
      "metadata": {
        "id": "xbhGhxDV62_f"
      },
      "execution_count": 98,
      "outputs": []
    },
    {
      "cell_type": "code",
      "source": [
        "from sklearn.neural_network import MLPClassifier\n",
        "mlp = MLPClassifier(max_iter=100)\n",
        "parameter_space = {\n",
        "    'hidden_layer_sizes': [(50,50,50), (50,100,50), (100,)],\n",
        "    'activation': ['tanh', 'relu'],\n",
        "    'solver': ['sgd', 'adam'],\n",
        "    'alpha': [0.0001, 0.05],\n",
        "    'learning_rate': ['constant','adaptive'],\n",
        "}\n",
        "\n",
        "clf = RandomizedSearchCV(mlp, parameter_space, n_jobs=-1, cv=3)\n",
        "best_model_random = clf.fit(X_res, y_res)"
      ],
      "metadata": {
        "id": "GyxJh7it76Ez"
      },
      "execution_count": 107,
      "outputs": []
    },
    {
      "cell_type": "code",
      "source": [
        "print(best_model_random.best_estimator_)"
      ],
      "metadata": {
        "id": "U5OkN6ykEBot",
        "outputId": "16b6b193-2ce9-4baa-c704-7bf64ded0939",
        "colab": {
          "base_uri": "https://localhost:8080/"
        }
      },
      "execution_count": 108,
      "outputs": [
        {
          "output_type": "stream",
          "name": "stdout",
          "text": [
            "MLPClassifier(alpha=0.05, learning_rate='adaptive', max_iter=100)\n"
          ]
        }
      ]
    },
    {
      "cell_type": "code",
      "source": [
        "print(best_model_random.best_params_)"
      ],
      "metadata": {
        "id": "53YS0HlOELKi",
        "outputId": "78bdb8d7-e275-43a9-ec7e-773f211edc00",
        "colab": {
          "base_uri": "https://localhost:8080/"
        }
      },
      "execution_count": 109,
      "outputs": [
        {
          "output_type": "stream",
          "name": "stdout",
          "text": [
            "{'solver': 'adam', 'learning_rate': 'adaptive', 'hidden_layer_sizes': (100,), 'alpha': 0.05, 'activation': 'relu'}\n"
          ]
        }
      ]
    },
    {
      "cell_type": "code",
      "source": [
        "mlp = MLPClassifier(max_iter=100, alpha=0.05, learning_rate='adaptive', hidden_layer_sizes = (100,), activation = 'relu', solver = 'adam')"
      ],
      "metadata": {
        "id": "pGHy2gqQEQNM"
      },
      "execution_count": 110,
      "outputs": []
    },
    {
      "cell_type": "code",
      "source": [
        "mlp.fit(X_res, y_res)"
      ],
      "metadata": {
        "id": "EMpFJ63-Er8I",
        "outputId": "a5623d51-c788-4d75-9575-45394b1dec46",
        "colab": {
          "base_uri": "https://localhost:8080/"
        }
      },
      "execution_count": 112,
      "outputs": [
        {
          "output_type": "execute_result",
          "data": {
            "text/plain": [
              "MLPClassifier(alpha=0.05, learning_rate='adaptive', max_iter=100)"
            ]
          },
          "metadata": {},
          "execution_count": 112
        }
      ]
    },
    {
      "cell_type": "code",
      "source": [
        "Y_pred = mlp.predict(X_test)"
      ],
      "metadata": {
        "id": "78rL__CmE7LS"
      },
      "execution_count": 113,
      "outputs": []
    },
    {
      "cell_type": "code",
      "execution_count": 121,
      "metadata": {
        "id": "lXw2rn0S9PFb"
      },
      "outputs": [],
      "source": [
        "# Hyper Parameter Optimization\n",
        "\n",
        "params={\n",
        " \"learning_rate\"    : [0.20] ,\n",
        " \"max_depth\"        : [12, 14, 16, 18],\n",
        " \"min_child_weight\" : [1, 2, 3, 4],\n",
        " \"colsample_bytree\" : [ 0.8],\n",
        " \"gamma\" : [0.2]\n",
        "}"
      ]
    },
    {
      "cell_type": "code",
      "execution_count": 122,
      "metadata": {
        "id": "1ovPn_zR9dR3"
      },
      "outputs": [],
      "source": [
        "classifier=xgboost.XGBClassifier()"
      ]
    },
    {
      "cell_type": "code",
      "execution_count": 127,
      "metadata": {
        "id": "iH6eK_5o9jSX"
      },
      "outputs": [],
      "source": [
        "random_search=RandomizedSearchCV(classifier,param_distributions=params,n_iter=5,scoring='roc_auc',n_jobs=-1,cv=5,verbose=3)"
      ]
    },
    {
      "cell_type": "code",
      "execution_count": 128,
      "metadata": {
        "colab": {
          "base_uri": "https://localhost:8080/"
        },
        "id": "Y1MFs6EL9pGj",
        "outputId": "8fc785db-71aa-4a76-dc04-5eee364fed44"
      },
      "outputs": [
        {
          "output_type": "stream",
          "name": "stdout",
          "text": [
            "Fitting 5 folds for each of 5 candidates, totalling 25 fits\n",
            "\n",
            " Time taken: 0 hours 17 minutes and 19.65 seconds.\n"
          ]
        }
      ],
      "source": [
        "from datetime import datetime\n",
        "# Here we go\n",
        "start_time = timer(None) # timing starts from this point for \"start_time\" variable\n",
        "random_search.fit(X_res,y_res)\n",
        "timer(start_time) # timing ends here for \"start_time\" variable"
      ]
    },
    {
      "cell_type": "code",
      "execution_count": 129,
      "metadata": {
        "colab": {
          "base_uri": "https://localhost:8080/"
        },
        "id": "TujL2CbR9syd",
        "outputId": "a90d524a-15ae-4fa2-d933-1b86df91ab69"
      },
      "outputs": [
        {
          "output_type": "execute_result",
          "data": {
            "text/plain": [
              "{'min_child_weight': 1,\n",
              " 'max_depth': 14,\n",
              " 'learning_rate': 0.2,\n",
              " 'gamma': 0.2,\n",
              " 'colsample_bytree': 0.8}"
            ]
          },
          "metadata": {},
          "execution_count": 129
        }
      ],
      "source": [
        "random_search.best_params_"
      ]
    },
    {
      "cell_type": "code",
      "execution_count": 130,
      "metadata": {
        "colab": {
          "base_uri": "https://localhost:8080/"
        },
        "id": "IZdTCDHwEhhX",
        "outputId": "7d4392b8-d5a2-4905-e37f-f3007557115e"
      },
      "outputs": [
        {
          "output_type": "execute_result",
          "data": {
            "text/plain": [
              "XGBClassifier(colsample_bytree=0.8, gamma=0.2, learning_rate=0.2, max_depth=14)"
            ]
          },
          "metadata": {},
          "execution_count": 130
        }
      ],
      "source": [
        "random_search.best_estimator_"
      ]
    },
    {
      "cell_type": "code",
      "execution_count": 144,
      "metadata": {
        "id": "JbLwqOmBFISp"
      },
      "outputs": [],
      "source": [
        "classifier=xgboost.XGBClassifier(base_score=0.5, booster='gbtree', colsample_bylevel=1,\n",
        "       colsample_bytree=0.4, gamma=0.2, learning_rate=0.02,\n",
        "       max_delta_step=0, max_depth=12, min_child_weight=2, missing=-1,\n",
        "       n_estimators=2000, n_jobs=1, nthread=None,\n",
        "       objective='binary:logistic', random_state=0, reg_alpha=0,\n",
        "       reg_lambda=1, scale_pos_weight=1, seed=None, silent=True,\n",
        "       subsample=1, eval_metric='auc')"
      ]
    },
    {
      "cell_type": "code",
      "execution_count": 145,
      "metadata": {
        "colab": {
          "base_uri": "https://localhost:8080/"
        },
        "id": "SiK2TwmOGRmq",
        "outputId": "9509273c-ba8c-435c-f2ce-7b3fd007e3ad"
      },
      "outputs": [
        {
          "output_type": "execute_result",
          "data": {
            "text/plain": [
              "XGBClassifier(colsample_bytree=0.4, eval_metric='auc', gamma=0.2,\n",
              "              learning_rate=0.02, max_depth=12, min_child_weight=2, missing=-1,\n",
              "              n_estimators=2000, silent=True)"
            ]
          },
          "metadata": {},
          "execution_count": 145
        }
      ],
      "source": [
        "classifier.fit(X_res, y_res)"
      ]
    },
    {
      "cell_type": "code",
      "execution_count": 146,
      "metadata": {
        "id": "QcJX55LiGhjo"
      },
      "outputs": [],
      "source": [
        "Y_pred = classifier.predict(X_test)"
      ]
    },
    {
      "cell_type": "code",
      "execution_count": 147,
      "metadata": {
        "colab": {
          "base_uri": "https://localhost:8080/"
        },
        "id": "om7d6kXl-TlU",
        "outputId": "141defbf-f576-48fb-da0a-b69e0a07c7cd",
        "trusted": true
      },
      "outputs": [
        {
          "output_type": "execute_result",
          "data": {
            "text/plain": [
              "array([1, 1, 0, ..., 0, 0, 1])"
            ]
          },
          "metadata": {},
          "execution_count": 147
        }
      ],
      "source": [
        "Y_pred"
      ]
    },
    {
      "cell_type": "code",
      "execution_count": 148,
      "metadata": {
        "id": "_i2H31aJ-TlU",
        "trusted": true
      },
      "outputs": [],
      "source": [
        "Y_test = pd.DataFrame(Y_pred)"
      ]
    },
    {
      "cell_type": "code",
      "execution_count": 149,
      "metadata": {
        "id": "2m2n6IRj-TlV",
        "trusted": true
      },
      "outputs": [],
      "source": [
        "Y_test.columns = ['isFraud']\n",
        "Y_test.index.name = \"Id\""
      ]
    },
    {
      "cell_type": "code",
      "execution_count": 150,
      "metadata": {
        "colab": {
          "base_uri": "https://localhost:8080/",
          "height": 300
        },
        "id": "CKq3RrAp-TlV",
        "outputId": "30a912f6-a44b-4acc-f242-1204555beff0",
        "trusted": true
      },
      "outputs": [
        {
          "output_type": "execute_result",
          "data": {
            "text/plain": [
              "             isFraud\n",
              "count  147635.000000\n",
              "mean        0.122830\n",
              "std         0.328243\n",
              "min         0.000000\n",
              "25%         0.000000\n",
              "50%         0.000000\n",
              "75%         0.000000\n",
              "max         1.000000"
            ],
            "text/html": [
              "\n",
              "  <div id=\"df-0f2d9d81-2031-4a38-b020-02b9d2a8ef6d\">\n",
              "    <div class=\"colab-df-container\">\n",
              "      <div>\n",
              "<style scoped>\n",
              "    .dataframe tbody tr th:only-of-type {\n",
              "        vertical-align: middle;\n",
              "    }\n",
              "\n",
              "    .dataframe tbody tr th {\n",
              "        vertical-align: top;\n",
              "    }\n",
              "\n",
              "    .dataframe thead th {\n",
              "        text-align: right;\n",
              "    }\n",
              "</style>\n",
              "<table border=\"1\" class=\"dataframe\">\n",
              "  <thead>\n",
              "    <tr style=\"text-align: right;\">\n",
              "      <th></th>\n",
              "      <th>isFraud</th>\n",
              "    </tr>\n",
              "  </thead>\n",
              "  <tbody>\n",
              "    <tr>\n",
              "      <th>count</th>\n",
              "      <td>147635.000000</td>\n",
              "    </tr>\n",
              "    <tr>\n",
              "      <th>mean</th>\n",
              "      <td>0.122830</td>\n",
              "    </tr>\n",
              "    <tr>\n",
              "      <th>std</th>\n",
              "      <td>0.328243</td>\n",
              "    </tr>\n",
              "    <tr>\n",
              "      <th>min</th>\n",
              "      <td>0.000000</td>\n",
              "    </tr>\n",
              "    <tr>\n",
              "      <th>25%</th>\n",
              "      <td>0.000000</td>\n",
              "    </tr>\n",
              "    <tr>\n",
              "      <th>50%</th>\n",
              "      <td>0.000000</td>\n",
              "    </tr>\n",
              "    <tr>\n",
              "      <th>75%</th>\n",
              "      <td>0.000000</td>\n",
              "    </tr>\n",
              "    <tr>\n",
              "      <th>max</th>\n",
              "      <td>1.000000</td>\n",
              "    </tr>\n",
              "  </tbody>\n",
              "</table>\n",
              "</div>\n",
              "      <button class=\"colab-df-convert\" onclick=\"convertToInteractive('df-0f2d9d81-2031-4a38-b020-02b9d2a8ef6d')\"\n",
              "              title=\"Convert this dataframe to an interactive table.\"\n",
              "              style=\"display:none;\">\n",
              "        \n",
              "  <svg xmlns=\"http://www.w3.org/2000/svg\" height=\"24px\"viewBox=\"0 0 24 24\"\n",
              "       width=\"24px\">\n",
              "    <path d=\"M0 0h24v24H0V0z\" fill=\"none\"/>\n",
              "    <path d=\"M18.56 5.44l.94 2.06.94-2.06 2.06-.94-2.06-.94-.94-2.06-.94 2.06-2.06.94zm-11 1L8.5 8.5l.94-2.06 2.06-.94-2.06-.94L8.5 2.5l-.94 2.06-2.06.94zm10 10l.94 2.06.94-2.06 2.06-.94-2.06-.94-.94-2.06-.94 2.06-2.06.94z\"/><path d=\"M17.41 7.96l-1.37-1.37c-.4-.4-.92-.59-1.43-.59-.52 0-1.04.2-1.43.59L10.3 9.45l-7.72 7.72c-.78.78-.78 2.05 0 2.83L4 21.41c.39.39.9.59 1.41.59.51 0 1.02-.2 1.41-.59l7.78-7.78 2.81-2.81c.8-.78.8-2.07 0-2.86zM5.41 20L4 18.59l7.72-7.72 1.47 1.35L5.41 20z\"/>\n",
              "  </svg>\n",
              "      </button>\n",
              "      \n",
              "  <style>\n",
              "    .colab-df-container {\n",
              "      display:flex;\n",
              "      flex-wrap:wrap;\n",
              "      gap: 12px;\n",
              "    }\n",
              "\n",
              "    .colab-df-convert {\n",
              "      background-color: #E8F0FE;\n",
              "      border: none;\n",
              "      border-radius: 50%;\n",
              "      cursor: pointer;\n",
              "      display: none;\n",
              "      fill: #1967D2;\n",
              "      height: 32px;\n",
              "      padding: 0 0 0 0;\n",
              "      width: 32px;\n",
              "    }\n",
              "\n",
              "    .colab-df-convert:hover {\n",
              "      background-color: #E2EBFA;\n",
              "      box-shadow: 0px 1px 2px rgba(60, 64, 67, 0.3), 0px 1px 3px 1px rgba(60, 64, 67, 0.15);\n",
              "      fill: #174EA6;\n",
              "    }\n",
              "\n",
              "    [theme=dark] .colab-df-convert {\n",
              "      background-color: #3B4455;\n",
              "      fill: #D2E3FC;\n",
              "    }\n",
              "\n",
              "    [theme=dark] .colab-df-convert:hover {\n",
              "      background-color: #434B5C;\n",
              "      box-shadow: 0px 1px 3px 1px rgba(0, 0, 0, 0.15);\n",
              "      filter: drop-shadow(0px 1px 2px rgba(0, 0, 0, 0.3));\n",
              "      fill: #FFFFFF;\n",
              "    }\n",
              "  </style>\n",
              "\n",
              "      <script>\n",
              "        const buttonEl =\n",
              "          document.querySelector('#df-0f2d9d81-2031-4a38-b020-02b9d2a8ef6d button.colab-df-convert');\n",
              "        buttonEl.style.display =\n",
              "          google.colab.kernel.accessAllowed ? 'block' : 'none';\n",
              "\n",
              "        async function convertToInteractive(key) {\n",
              "          const element = document.querySelector('#df-0f2d9d81-2031-4a38-b020-02b9d2a8ef6d');\n",
              "          const dataTable =\n",
              "            await google.colab.kernel.invokeFunction('convertToInteractive',\n",
              "                                                     [key], {});\n",
              "          if (!dataTable) return;\n",
              "\n",
              "          const docLinkHtml = 'Like what you see? Visit the ' +\n",
              "            '<a target=\"_blank\" href=https://colab.research.google.com/notebooks/data_table.ipynb>data table notebook</a>'\n",
              "            + ' to learn more about interactive tables.';\n",
              "          element.innerHTML = '';\n",
              "          dataTable['output_type'] = 'display_data';\n",
              "          await google.colab.output.renderOutput(dataTable, element);\n",
              "          const docLink = document.createElement('div');\n",
              "          docLink.innerHTML = docLinkHtml;\n",
              "          element.appendChild(docLink);\n",
              "        }\n",
              "      </script>\n",
              "    </div>\n",
              "  </div>\n",
              "  "
            ]
          },
          "metadata": {},
          "execution_count": 150
        }
      ],
      "source": [
        "Y_test.describe()"
      ]
    },
    {
      "cell_type": "code",
      "execution_count": 151,
      "metadata": {
        "colab": {
          "base_uri": "https://localhost:8080/",
          "height": 237
        },
        "id": "N0SdArJRLga4",
        "outputId": "ea63658d-70b6-4a22-b12b-243a48a735cd"
      },
      "outputs": [
        {
          "output_type": "execute_result",
          "data": {
            "text/plain": [
              "    isFraud\n",
              "Id         \n",
              "0         1\n",
              "1         1\n",
              "2         0\n",
              "3         0\n",
              "4         0"
            ],
            "text/html": [
              "\n",
              "  <div id=\"df-110e1ffe-81ac-421c-81e8-052240205f49\">\n",
              "    <div class=\"colab-df-container\">\n",
              "      <div>\n",
              "<style scoped>\n",
              "    .dataframe tbody tr th:only-of-type {\n",
              "        vertical-align: middle;\n",
              "    }\n",
              "\n",
              "    .dataframe tbody tr th {\n",
              "        vertical-align: top;\n",
              "    }\n",
              "\n",
              "    .dataframe thead th {\n",
              "        text-align: right;\n",
              "    }\n",
              "</style>\n",
              "<table border=\"1\" class=\"dataframe\">\n",
              "  <thead>\n",
              "    <tr style=\"text-align: right;\">\n",
              "      <th></th>\n",
              "      <th>isFraud</th>\n",
              "    </tr>\n",
              "    <tr>\n",
              "      <th>Id</th>\n",
              "      <th></th>\n",
              "    </tr>\n",
              "  </thead>\n",
              "  <tbody>\n",
              "    <tr>\n",
              "      <th>0</th>\n",
              "      <td>1</td>\n",
              "    </tr>\n",
              "    <tr>\n",
              "      <th>1</th>\n",
              "      <td>1</td>\n",
              "    </tr>\n",
              "    <tr>\n",
              "      <th>2</th>\n",
              "      <td>0</td>\n",
              "    </tr>\n",
              "    <tr>\n",
              "      <th>3</th>\n",
              "      <td>0</td>\n",
              "    </tr>\n",
              "    <tr>\n",
              "      <th>4</th>\n",
              "      <td>0</td>\n",
              "    </tr>\n",
              "  </tbody>\n",
              "</table>\n",
              "</div>\n",
              "      <button class=\"colab-df-convert\" onclick=\"convertToInteractive('df-110e1ffe-81ac-421c-81e8-052240205f49')\"\n",
              "              title=\"Convert this dataframe to an interactive table.\"\n",
              "              style=\"display:none;\">\n",
              "        \n",
              "  <svg xmlns=\"http://www.w3.org/2000/svg\" height=\"24px\"viewBox=\"0 0 24 24\"\n",
              "       width=\"24px\">\n",
              "    <path d=\"M0 0h24v24H0V0z\" fill=\"none\"/>\n",
              "    <path d=\"M18.56 5.44l.94 2.06.94-2.06 2.06-.94-2.06-.94-.94-2.06-.94 2.06-2.06.94zm-11 1L8.5 8.5l.94-2.06 2.06-.94-2.06-.94L8.5 2.5l-.94 2.06-2.06.94zm10 10l.94 2.06.94-2.06 2.06-.94-2.06-.94-.94-2.06-.94 2.06-2.06.94z\"/><path d=\"M17.41 7.96l-1.37-1.37c-.4-.4-.92-.59-1.43-.59-.52 0-1.04.2-1.43.59L10.3 9.45l-7.72 7.72c-.78.78-.78 2.05 0 2.83L4 21.41c.39.39.9.59 1.41.59.51 0 1.02-.2 1.41-.59l7.78-7.78 2.81-2.81c.8-.78.8-2.07 0-2.86zM5.41 20L4 18.59l7.72-7.72 1.47 1.35L5.41 20z\"/>\n",
              "  </svg>\n",
              "      </button>\n",
              "      \n",
              "  <style>\n",
              "    .colab-df-container {\n",
              "      display:flex;\n",
              "      flex-wrap:wrap;\n",
              "      gap: 12px;\n",
              "    }\n",
              "\n",
              "    .colab-df-convert {\n",
              "      background-color: #E8F0FE;\n",
              "      border: none;\n",
              "      border-radius: 50%;\n",
              "      cursor: pointer;\n",
              "      display: none;\n",
              "      fill: #1967D2;\n",
              "      height: 32px;\n",
              "      padding: 0 0 0 0;\n",
              "      width: 32px;\n",
              "    }\n",
              "\n",
              "    .colab-df-convert:hover {\n",
              "      background-color: #E2EBFA;\n",
              "      box-shadow: 0px 1px 2px rgba(60, 64, 67, 0.3), 0px 1px 3px 1px rgba(60, 64, 67, 0.15);\n",
              "      fill: #174EA6;\n",
              "    }\n",
              "\n",
              "    [theme=dark] .colab-df-convert {\n",
              "      background-color: #3B4455;\n",
              "      fill: #D2E3FC;\n",
              "    }\n",
              "\n",
              "    [theme=dark] .colab-df-convert:hover {\n",
              "      background-color: #434B5C;\n",
              "      box-shadow: 0px 1px 3px 1px rgba(0, 0, 0, 0.15);\n",
              "      filter: drop-shadow(0px 1px 2px rgba(0, 0, 0, 0.3));\n",
              "      fill: #FFFFFF;\n",
              "    }\n",
              "  </style>\n",
              "\n",
              "      <script>\n",
              "        const buttonEl =\n",
              "          document.querySelector('#df-110e1ffe-81ac-421c-81e8-052240205f49 button.colab-df-convert');\n",
              "        buttonEl.style.display =\n",
              "          google.colab.kernel.accessAllowed ? 'block' : 'none';\n",
              "\n",
              "        async function convertToInteractive(key) {\n",
              "          const element = document.querySelector('#df-110e1ffe-81ac-421c-81e8-052240205f49');\n",
              "          const dataTable =\n",
              "            await google.colab.kernel.invokeFunction('convertToInteractive',\n",
              "                                                     [key], {});\n",
              "          if (!dataTable) return;\n",
              "\n",
              "          const docLinkHtml = 'Like what you see? Visit the ' +\n",
              "            '<a target=\"_blank\" href=https://colab.research.google.com/notebooks/data_table.ipynb>data table notebook</a>'\n",
              "            + ' to learn more about interactive tables.';\n",
              "          element.innerHTML = '';\n",
              "          dataTable['output_type'] = 'display_data';\n",
              "          await google.colab.output.renderOutput(dataTable, element);\n",
              "          const docLink = document.createElement('div');\n",
              "          docLink.innerHTML = docLinkHtml;\n",
              "          element.appendChild(docLink);\n",
              "        }\n",
              "      </script>\n",
              "    </div>\n",
              "  </div>\n",
              "  "
            ]
          },
          "metadata": {},
          "execution_count": 151
        }
      ],
      "source": [
        "Y_test.head()"
      ]
    },
    {
      "cell_type": "code",
      "execution_count": 152,
      "metadata": {
        "colab": {
          "base_uri": "https://localhost:8080/",
          "height": 316
        },
        "id": "eyOm5I1AL13A",
        "outputId": "58357a10-b023-4aab-9a01-8ae7b1871a67"
      },
      "outputs": [
        {
          "output_type": "execute_result",
          "data": {
            "text/plain": [
              "array([[<matplotlib.axes._subplots.AxesSubplot object at 0x7f364dc06050>]],\n",
              "      dtype=object)"
            ]
          },
          "metadata": {},
          "execution_count": 152
        },
        {
          "output_type": "display_data",
          "data": {
            "text/plain": [
              "<Figure size 432x288 with 1 Axes>"
            ],
            "image/png": "[encoded data removed]"
          },
          "metadata": {
            "needs_background": "light"
          }
        }
      ],
      "source": [
        "Y_test.hist(bins=30,color='darkred',alpha=0.7)"
      ]
    },
    {
      "cell_type": "code",
      "execution_count": 153,
      "metadata": {
        "id": "wWNhyUt--TlV",
        "trusted": true
      },
      "outputs": [],
      "source": [
        "Y_test.to_csv(\"/content/fraud.csv\") "
      ]
    }
  ],
  "metadata": {
    "colab": {
      "provenance": []
    },
    "kernelspec": {
      "display_name": "Python 3",
      "language": "python",
      "name": "python3"
    },
    "language_info": {
      "codemirror_mode": {
        "name": "ipython",
        "version": 3
      },
      "file_extension": ".py",
      "mimetype": "text/x-python",
      "name": "python",
      "nbconvert_exporter": "python",
      "pygments_lexer": "ipython3",
      "version": "3.7.12"
    }
  },
  "nbformat": 4,
  "nbformat_minor": 0
}
